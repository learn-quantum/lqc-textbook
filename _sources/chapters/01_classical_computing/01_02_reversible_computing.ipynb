{
 "cells": [
  {
   "cell_type": "markdown",
   "id": "a145c030",
   "metadata": {},
   "source": [
    "# Reversible Computing\n",
    "<hr></hr>"
   ]
  },
  {
   "cell_type": "markdown",
   "id": "13a8cd9e",
   "metadata": {},
   "source": [
    "In the [previous chapter](./01_01_digital_logic.ipynb), we introduced the concept of Boolean operators such as the binary operations **AND** and **OR**. A critical aspect of these elements is that they are **not** reversible. In other words, we cannot figure out the value of their inputs based solely on the value of their output. \n",
    "\n",
    "In case this is not entirely obvious, let's look again at the truth table for the **AND** operation:\n",
    "\n",
    "| $b$ | $a$ | $b \\land a$ |\n",
    "| :-: | :-: | :-: |\n",
    "| $0$ | $0$ | $0$ |\n",
    "| $0$ | $1$ | $0$ |\n",
    "| $1$ | $0$ | $0$ |\n",
    "| $1$ | $1$ | $1$ |\n",
    "\n",
    "\n",
    "Here we can see that if our output is $1$, we can confidently affirm that our inputs are $b = 1$ and $a = 1$. However, if the output is $0$, it is not possible to predict with certainty what the values of $a$ and $b$ are. This uncertainty is equivalent to a loss of information in our system.\n",
    "\n",
    "<a name=\"back1\"></a> [Reversible computing](https://en.wikipedia.org/wiki/Reversible_computing) was born from the idea that the loss of information in classical Boolean circuits is associated with power dissipation [[Landauer61](https://www.informationphilosopher.com/solutions/scientists/landauer/Landauer-1961.pdf)]. In an effort to find more power-efficient ways to implement circuits, a model of reversible computation emerged [[Bennett73](https://www.dna.caltech.edu/courses/cs191/paperscs191/bennett1973.pdf)], and with it, a corresponding set of logical gate abstractions to perform these computations [[Toffoli80](http://publications.csail.mit.edu/lcs/pubs/pdf/MIT-LCS-TM-151.pdf), [Fredkin81](https://dspace.mit.edu/bitstream/handle/1721.1/149008/MIT-LCS-TM-197.pdf?sequence=1)][$^*$](#footnote1).\n",
    "\n",
    "It was very quickly realized that a model of computation at the quantum-mechanical level can be developed following these same rules [[Benioff79](https://www.researchgate.net/profile/Paul-Benioff/publication/226754042_The_computer_as_a_physical_system_A_microscopic_quantum_mechanical_Hamiltonian_model_of_computers_as_represented_by_Turing_machines/links/55c2360708aeb975673e3dce/The-computer-as-a-physical-system-A-microscopic-quantum-mechanical-Hamiltonian-model-of-computers-as-represented-by-Turing-machines.pdf), [Feynman85](http://www.quantum-dynamic.eu/doc/feynman85_qmc_optics_letters.pdf)], and expanded to include non-classical operations such as superposition and entanglement [[Deutsch85](http://www.cs.princeton.edu/courses/archive/fall06/cos576/papers/deutsch85.pdf), [Peres85](https://journals.aps.org/pra/abstract/10.1103/PhysRevA.32.3266), [Deutsch88](https://royalsocietypublishing.org/doi/epdf/10.1098/rspa.1989.0099), [Margolus89](https://citeseerx.ist.psu.edu/document?repid=rep1&type=pdf&doi=9a1dca1401758d0ddd223f2807762fdd54b83be8)]. Therefore, understanding the basic principles of reversible computing is an important step towards a model of quantum computation."
   ]
  },
  {
   "cell_type": "markdown",
   "id": "013b76d9",
   "metadata": {},
   "source": [
    "## 1. Reversible Logic\n",
    "\n",
    "We begin by analyzing the basic operations we reviewed in the previous chapter in an effort to make them reversible. \n",
    "\n",
    "### 1.1 Reversible **NOT**\n",
    "The first thing to note is that the **NOT** gate ***is*** reversible. This because we can confidently predict the input value directly from its output. If the output is $1$, we know for a fact the input was $0$, and vice versa. Furthermore, we can reverse the computation of a **NOT** gate by applying another **NOT** right after.\n",
    "\n",
    "<a name=\"back2\"></a> Now, because the symbol for the logic **NOT** gate is not symmetric, Feynman suggested changing it to simply using an X over a wire. However, from now on, we will instead use the symbol commonly utilized in quantum computing circuits, which is an X inside a box[$^{\\dagger}$](#footnote2):\n",
    "\n",
    "\n",
    "<img src=\"images/01_02_01_not_gates.png\" align = \"center\" width=\"660\"/>\n",
    "\n",
    "For this same reason, we will now refer to the **NOT** gate as the $\\text{X}$ gate."
   ]
  },
  {
   "cell_type": "markdown",
   "id": "1203b724",
   "metadata": {},
   "source": [
    "### 1.2 Reversible **XOR**\n",
    "The reversible version of the **XOR** gate is perhaps the most fundamental 2-bit operation in reversible computing, and one of the most widely used gates in quantum circuits. We can implement this operation by the used of a what is known as a controlled-$\\text{X}$ or $\\text{CX}$ gate. A $\\text{CX}$ gate has a control line and a target line. The value on the control line determines if an $\\text{X}$ gate on the target line gets applied or not: \n",
    "- If the control line is $0$, the target line is left unchanged.\n",
    "- If the control is $1$, the $\\text{X}$ gate is activated, inverting the value of target line. \n",
    "\n",
    "The figure below shows the schematic representation of a $\\text{CX}$ gate where the top line is the control, and the bottom line is the target:\n",
    "\n",
    "<img src=\"images/01_02_02_cx_gate.png\" align = \"center\" width=\"180\"/>\n",
    "\n",
    "Following this logic, we can make a truth table for what the outputs $a'$ and $b'$ look like with respect to the inputs $a$ and $b$, which clearly shows that $a' = a$, and more importantly, $b' = a \\oplus b$:\n",
    "| $a$ | $b$ | $a'$ | $b'$ |\n",
    "| :-: | :-: | :-: | :-: |\n",
    "| $0$ | $0$ | $0$ | $0$ |\n",
    "| $0$ | $1$ | $0$ | $1$ |\n",
    "| $1$ | $0$ | $1$ | $1$ |\n",
    "| $1$ | $1$ | $1$ | $0$ |\n",
    "\n",
    "The output $b'$ is the same as what would we get with a classical **XOR** gate, but the simple fact of carrying the input $a$ to the output $a'$ allows us to be able to always predict the value of both inputs ($a$ and $b$) directly from the outputs ($a'$ and $b'$). This should be clear from the fact that for each possible input there is only a single unique possible output.\n",
    "\n",
    "Furthermore, the operation of a $\\text{CX}$ gate can be uncomputed (reversed) by applying another $\\text{CX}$ right after! We can verify this with a few lines of code. Let's first implement a $\\text{CX}$ gate and generate its truth table in Python:"
   ]
  },
  {
   "cell_type": "code",
   "execution_count": 1,
   "id": "75630f2b",
   "metadata": {},
   "outputs": [],
   "source": [
    "# define x gate as a function:\n",
    "def x(a_in):\n",
    "    a_out = a_in ^ 1   # Remember ^ performs the XOR operation. a^1 = a̅\n",
    "    return a_out"
   ]
  },
  {
   "cell_type": "code",
   "execution_count": 2,
   "id": "6fd9c30d",
   "metadata": {},
   "outputs": [],
   "source": [
    "# define cx gate as a function:\n",
    "def cx(a_in, b_in):\n",
    "    \n",
    "    # a' is always equal to a.\n",
    "    a_out = a_in\n",
    "    \n",
    "    # if control is one (i.e., a == 1): negate target (b' = b̅), else: leave b alone (b' = b).\n",
    "    if a_in == 1:                \n",
    "        b_out = x(b_in)\n",
    "    else:\n",
    "        b_out = b_in\n",
    "\n",
    "    return (a_out, b_out)"
   ]
  },
  {
   "cell_type": "code",
   "execution_count": 3,
   "id": "5999193c",
   "metadata": {},
   "outputs": [
    {
     "name": "stdout",
     "output_type": "stream",
     "text": [
      "CX gate:\n",
      "a | b || a' | b' |\n",
      "0 | 0 || 0  | 0  |\n",
      "0 | 1 || 0  | 1  |\n",
      "1 | 0 || 1  | 1  |\n",
      "1 | 1 || 1  | 0  |\n"
     ]
    }
   ],
   "source": [
    "# Print table for CX gate\n",
    "print('CX gate:')\n",
    "print('a | b || a\\' | b\\' |')\n",
    "\n",
    "# Iterate over possible combinations of a and b\n",
    "for a, b in [(0,0), (0,1), (1,0), (1,1)]:\n",
    "    ap, bp = cx(a,b)\n",
    "    print(f'{a} | {b} || {ap}  | {bp}  |')"
   ]
  },
  {
   "cell_type": "markdown",
   "id": "db37d2f9",
   "metadata": {},
   "source": [
    "We can see that $a' = a$ and $b' = a \\oplus b$, so our $\\text{CX}$ function seems to be working correctly. Let's now apply it twice:"
   ]
  },
  {
   "cell_type": "code",
   "execution_count": 4,
   "id": "e456189c",
   "metadata": {},
   "outputs": [
    {
     "name": "stdout",
     "output_type": "stream",
     "text": [
      "Two CX gates:\n",
      "a | b || a'' | b'' |\n",
      "0 | 0 || 0   | 0   |\n",
      "0 | 1 || 0   | 1   |\n",
      "1 | 0 || 1   | 0   |\n",
      "1 | 1 || 1   | 1   |\n"
     ]
    }
   ],
   "source": [
    "# Print table for applying two CX gates\n",
    "print('Two CX gates:')\n",
    "print('a | b || a\\'\\' | b\\'\\' |')\n",
    "\n",
    "# Apply CX twice for all combination of inputs a, b.\n",
    "for a, b in [(0,0), (0,1), (1,0), (1,1)]:\n",
    "    ai, bi = cx(a,b)\n",
    "    ap, bp = cx(ai,bi)\n",
    "    print(f'{a} | {b} || {ap}   | {bp}   |')"
   ]
  },
  {
   "cell_type": "markdown",
   "id": "f9a5aaba",
   "metadata": {},
   "source": [
    "It is clear that, after applying to $\\text{CX}$ gates in a row, the inputs $a$ and $b$ now match the ouputs $a''$ and $b''$, which means the computation has been reversed."
   ]
  },
  {
   "cell_type": "markdown",
   "id": "ed888125",
   "metadata": {},
   "source": [
    "### 1.2 Reversible **COPY**\n",
    "A reversible implementation of the **COPY** or **FANOUT** operation can be easily implemented by simply taking a $\\text{CX}$ and always setting the input of the target line to $0$:\n",
    "\n",
    "<img src=\"images/01_02_03_copy_gate.png\" align = \"center\" width=\"180\"/>\n",
    "\n",
    "We can see from the $\\text{CX}$ truth table that if $b = 0$, then $b' = a' = a$."
   ]
  },
  {
   "cell_type": "markdown",
   "id": "80739b34",
   "metadata": {},
   "source": [
    "### 1.3 Reversible **AND**\n",
    "\n",
    "Recall that for an **AND** gate, three of the four possible outputs are equal to $0$:\n",
    "| $a$ | $b$ | $a \\land b$ |\n",
    "| :-: | :-: | :-: |\n",
    "| $0$ | $0$ | $0$ |\n",
    "| $0$ | $1$ | $0$ |\n",
    "| $1$ | $0$ | $0$ |\n",
    "| $1$ | $1$ | $1$ |\n",
    "\n",
    "This poses a challenge because it is then not possible to predict **both** of the input values using just the output ($a \\land b$) and only one of the inputs ($a$ or $b$). The consequence of this is that we need a 3-bit gate in order to construct a reversible **AND** operation. The way to do this is by the use of a controlled-controlled-X or $\\text{CCX}$ gate, also often referred as a [Toffoli gate](https://en.wikipedia.org/wiki/Toffoli_gate).\n",
    "\n",
    "The $\\text{CCX}$ gate operates in a similar fashion to the $\\text{CX}$ gate, except that we now have two control lines and one target line, where an $\\text{X}$ gate is apply iff **both** of the control lines are equal to $1$:\n",
    "\n",
    "<img src=\"images/01_02_04_ccx_gate.png\" align = \"center\" width=\"180\"/>\n",
    "\n",
    "Using this condition, the truth table for the $\\text{CCX}$ is given by:\n",
    "\n",
    "| $a$ | $b$ | $c$ | $a'$ | $b'$ | $c'$ |\n",
    "| :-: | :-: | :-: | :-: | :-: | :-: |\n",
    "| $0$ | $0$ | $0$ | $0$ | $0$ | $0$ |\n",
    "| $0$ | $0$ | $1$ | $0$ | $0$ | $1$ |\n",
    "| $0$ | $1$ | $0$ | $0$ | $1$ | $0$ |\n",
    "| $0$ | $1$ | $1$ | $0$ | $1$ | $1$ |\n",
    "| $1$ | $0$ | $0$ | $1$ | $0$ | $0$ |\n",
    "| $1$ | $0$ | $1$ | $1$ | $0$ | $1$ |\n",
    "| $1$ | $1$ | $0$ | $1$ | $1$ | $1$ |\n",
    "| $1$ | $1$ | $1$ | $1$ | $1$ | $0$ |\n",
    "\n",
    "Even though there are a lot of numbers in this table, the results are simple. the outputs $a'$ and $b'$ are always equal to the inputs $a$ and $b$, respectively. And the output $c'$ is equal to the input $c$ unless $a = b = 1$, in which case $c' = \\bar{c}$.\n",
    "\n",
    "Now, for the specific case in which we set the input $c$ always equal to $0$, we get expected behavior for an **AND** gate where $c' = (a \\land b)$:\n",
    "\n",
    "| $a$ | $b$ | $c$ | $a'$ | $b'$ | $c'$ |\n",
    "| :-: | :-: | :-: | :-: | :-: | :-: |\n",
    "| $0$ | $0$ | $0$ | $0$ | $0$ | $0$ |\n",
    "| $0$ | $1$ | $0$ | $0$ | $1$ | $0$ |\n",
    "| $1$ | $0$ | $0$ | $1$ | $0$ | $0$ |\n",
    "| $1$ | $1$ | $0$ | $1$ | $1$ | $1$ |\n",
    "\n",
    "It is also worth noting that, if we were to set $c = 1$ instead, then we get the response of a **NAND** gate: $c' = (\\overline{a \\land b})$.\n",
    "\n",
    "And once again, just like with the $\\text{CX}$ gate, the $\\text{CCX}$ gate is reversible. Let's verify this in Python by first creating a $\\text{CCX}$ and then applying it twice:"
   ]
  },
  {
   "cell_type": "code",
   "execution_count": 5,
   "id": "9f4c1c40",
   "metadata": {},
   "outputs": [],
   "source": [
    "# define ccx gate as a function:\n",
    "def ccx(a_in, b_in, c_in):\n",
    "    \n",
    "    # a' and b' are always equal to a and b.\n",
    "    a_out = a_in                 \n",
    "    b_out = b_in\n",
    "    \n",
    "    # if both controls are 1: negate target (c' = c̅), else: leave b alone (c' = c).\n",
    "    if a_in == 1 and b_in == 1:                \n",
    "        c_out = x(c_in)\n",
    "    else:\n",
    "        c_out = c_in\n",
    "\n",
    "    return (a_out, b_out, c_out)"
   ]
  },
  {
   "cell_type": "code",
   "execution_count": 6,
   "id": "ac44dab5",
   "metadata": {},
   "outputs": [
    {
     "name": "stdout",
     "output_type": "stream",
     "text": [
      "CCX gate (with c = 0):\n",
      "a | b | c || a' | b' | c' |\n",
      "0 | 0 | 0 || 0  | 0  | 0  |\n",
      "0 | 1 | 0 || 0  | 1  | 0  |\n",
      "1 | 0 | 0 || 1  | 0  | 0  |\n",
      "1 | 1 | 0 || 1  | 1  | 1  |\n"
     ]
    }
   ],
   "source": [
    "# Print table for CCX gate when input c is zero\n",
    "print('CCX gate (with c = 0):')\n",
    "print('a | b | c || a\\' | b\\' | c\\' |')\n",
    "\n",
    "# Iterate over possible combinations of a and b (c is always 0)\n",
    "for a, b in [(0,0), (0,1), (1,0), (1,1)]:\n",
    "    ap, bp, cp = ccx(a,b,0)\n",
    "    print(f'{a} | {b} | 0 || {ap}  | {bp}  | {cp}  |')"
   ]
  },
  {
   "cell_type": "markdown",
   "id": "f20b9fa9",
   "metadata": {},
   "source": [
    "As expected, we see that $a' = a$, $b' = b$ and $c' = a \\land b$. Let's now apply the $\\text{CCX}$ twice and verify we can reverse the computation by checking all outputs match out original inputs:"
   ]
  },
  {
   "cell_type": "code",
   "execution_count": 7,
   "id": "89516a64",
   "metadata": {},
   "outputs": [
    {
     "name": "stdout",
     "output_type": "stream",
     "text": [
      "Two CCX gates (with c = 0):\n",
      "a | b | c || a'' | b'' | c'' |\n",
      "0 | 0 | 0 || 0   | 0   | 0   |\n",
      "0 | 1 | 0 || 0   | 1   | 0   |\n",
      "1 | 0 | 0 || 1   | 0   | 0   |\n",
      "1 | 1 | 0 || 1   | 1   | 0   |\n"
     ]
    }
   ],
   "source": [
    "# Print table for applying two CCX gates when input c is zero\n",
    "print('Two CCX gates (with c = 0):')\n",
    "print('a | b | c || a\\'\\' | b\\'\\' | c\\'\\' |')\n",
    "\n",
    "# Apply CX twice for all combination of inputs a, b.\n",
    "for a, b in [(0,0), (0,1), (1,0), (1,1)]:\n",
    "    ai, bi, ci = ccx(a,b,0)\n",
    "    ap, bp, cp = ccx(a,b,ci)\n",
    "    print(f'{a} | {b} | 0 || {ap}   | {bp}   | {cp}   |')"
   ]
  },
  {
   "cell_type": "markdown",
   "id": "dfd6ccfb",
   "metadata": {},
   "source": [
    "An important aspect to keep in mind is that the $\\text{CCX}$ gate (not the **AND** gate) is the one that's reversible. The **AND** implementation is just a special case where we set one of its inputs to be a constant value, but we can do the same exercise for when $c$ can take an arbitrary value."
   ]
  },
  {
   "cell_type": "markdown",
   "id": "37d9d19c",
   "metadata": {},
   "source": [
    "### 1.4 Reversible **OR**\n",
    "\n",
    "To implement a reversible **OR** gate, we can use the following Boolean algebra identity:\n",
    "\n",
    "$$a \\lor b = \\overline{(\\bar{a} \\land \\bar{b})} .$$\n",
    "\n",
    "This expression basically says that we can implement an **OR** gate if we negate both of the inputs to an **NAND** gate:\n",
    "\n",
    "<img src=\"images/01_02_06_or_with_and.png\" align = \"center\" width=\"500\"/>\n",
    "\n",
    "So, for the reversible case of an **OR**, we can use two $\\text{CCX}$ gates to negate the inputs $a$ and $b$, and use a $\\text{CCX}$ gate with $c = 1$ as our **NAND** gate:\n",
    "\n",
    "<img src=\"images/01_02_07_reversible_or.png\" align = \"center\" width=\"220\"/>\n",
    "\n",
    "Now, to show the reversibility of this composite gate, we might be tempted to think that, just like with the previous examples, applying it twice will reverse the operation (which actually gives the right answer in this particular case). However, what we want to do to \"uncompute\" the result is use the inverse of our circuit. In other words, we want to apply each of the gates in the reverse order:\n",
    "\n",
    "<img src=\"images/01_02_08_reverse_ors.png\" align = \"center\" width=\"360\"/>\n",
    "\n",
    "It is worth highlighting that, when we switch from working with classical circuits to quantum circuits, we will still need to apply our gates in reverse to invert a result. However, because in some cases we will be dealing with complex numbers, there will be an additional requirement to perform this uncomputation for certain gates, but we do not need to worry about this condition quite yet.\n",
    "\n",
    "To check the reversibility of the circuit above, we can first check the results for the **OR** gate by using the $\\text{CX}$ and $\\text{CCX}$ we defined above:"
   ]
  },
  {
   "cell_type": "code",
   "execution_count": 8,
   "id": "603f87d3",
   "metadata": {},
   "outputs": [
    {
     "name": "stdout",
     "output_type": "stream",
     "text": [
      "Reversible OR:\n",
      "a | b | c || a' | b' | c' |\n",
      "0 | 0 | 1 || 1  | 1  | 0  |\n",
      "0 | 1 | 1 || 1  | 0  | 1  |\n",
      "1 | 0 | 1 || 0  | 1  | 1  |\n",
      "1 | 1 | 1 || 0  | 0  | 1  |\n"
     ]
    }
   ],
   "source": [
    "# Print table for a reversible OR gate\n",
    "print('Reversible OR:')\n",
    "print('a | b | c || a\\' | b\\' | c\\' |')\n",
    "\n",
    "# Iterate over possible combinations of a and b (c is always 1)\n",
    "for a, b in [(0,0), (0,1), (1,0), (1,1)]:\n",
    "    an = x(a)\n",
    "    bn = x(b) \n",
    "    ap, bp, cp = ccx(an,bn,1)\n",
    "    print(f'{a} | {b} | 1 || {ap}  | {bp}  | {cp}  |')"
   ]
  },
  {
   "cell_type": "markdown",
   "id": "6011ed91",
   "metadata": {},
   "source": [
    "The results above match out expectation of having $c' = a \\lor b$. Let's now apply the **OR** gate followed by their corresponding gates in reverse:"
   ]
  },
  {
   "cell_type": "code",
   "execution_count": 9,
   "id": "050e7e57",
   "metadata": {},
   "outputs": [
    {
     "name": "stdout",
     "output_type": "stream",
     "text": [
      "Apply OR, then apply all gates in reverse:\n",
      "a | b | c || a'' | b'' | c'' |\n",
      "0 | 0 | 1 || 0   | 0   | 1   |\n",
      "0 | 1 | 1 || 0   | 1   | 1   |\n",
      "1 | 0 | 1 || 1   | 0   | 1   |\n",
      "1 | 1 | 1 || 1   | 1   | 1   |\n"
     ]
    }
   ],
   "source": [
    "# Print table for applying an reversible OR gate followed by its inverse\n",
    "print('Apply OR, then apply all gates in reverse:')\n",
    "print('a | b | c || a\\'\\' | b\\'\\' | c\\'\\' |')\n",
    "\n",
    "# Iterate over possible combinations of a and b (c is always 1)\n",
    "for a, b in [(0,0), (0,1), (1,0), (1,1)]:\n",
    "    an = x(a)\n",
    "    bn = x(b)\n",
    "    ai, bi, ci = ccx(an,bn,1)\n",
    "    ap, bp, cp = ccx(ai,bi,ci)\n",
    "    app = x(ap)\n",
    "    bpp = x(bp)\n",
    "    cpp = cp\n",
    "    \n",
    "    print(f'{a} | {b} | 1 || {app}   | {bpp}   | {cpp}   |')"
   ]
  },
  {
   "cell_type": "markdown",
   "id": "222c8c4e",
   "metadata": {},
   "source": [
    "## 2. Reversible Circuits\n",
    "\n",
    "In the previous section, we constructed a reversible **OR** gate by using other gates: two $\\text{X}$ gates and a $\\text{CCX}$ gate. We can use this same idea to compose more complex circuits. And, since we have now shown that we have the basic gates we had for non-reversible logic, we should be able to basically implement any circuit we want.\n",
    "\n",
    "For example, we could construct a one-to-one replacement of the full adder we showed in the previous chapter:\n",
    "\n",
    "<img src=\"images/01_02_09_reversible_adder.png\" align = \"center\" width=\"800\"/>\n",
    "\n",
    "One thing to note about the reversible version of this circuit is that, it will be fairly common to require several \"auxiliary\" lines to carry out our computation and provide a result. In this particular example, we managed to get the sum output $s$ using only the lines connected to our inputs, but to compute the output carry $c_{out}$ we needed three additional lines initialized to some specific value. \n",
    "\n",
    "Lastly, just to verify that the circuit above does indeed act as a full adder, we can use the $\\text{X}$, $\\text{CX}$ and $\\text{CCX}$ Python functions we defined above to implement this circuit. We will only display the relevant outputs $s$ and $c_{out}$, but the code makes all five outputs available in case we wanted to reverse the computation."
   ]
  },
  {
   "cell_type": "code",
   "execution_count": 10,
   "id": "781b963d",
   "metadata": {},
   "outputs": [
    {
     "name": "stdout",
     "output_type": "stream",
     "text": [
      "Reversible Full Adder\n",
      "a | b | cin || s | cout |\n",
      "0 | 0 | 0   || 0 | 0    |\n",
      "0 | 0 | 1   || 1 | 0    |\n",
      "0 | 1 | 0   || 1 | 0    |\n",
      "0 | 1 | 1   || 0 | 1    |\n",
      "1 | 0 | 0   || 1 | 0    |\n",
      "1 | 0 | 1   || 0 | 1    |\n",
      "1 | 1 | 0   || 0 | 1    |\n",
      "1 | 1 | 1   || 1 | 1    |\n"
     ]
    }
   ],
   "source": [
    "# Print table for a reversible Full Adder\n",
    "print('Reversible Full Adder')\n",
    "print(f'a | b | cin || s | cout |')\n",
    "\n",
    "# Iterate over possible combinations of a, b and cin\n",
    "inputs = [(0,0,0), (0,0,1), (0,1,0), (0,1,1),\n",
    "          (1,0,0), (1,0,1), (1,1,0), (1,1,1)]\n",
    "\n",
    "for a, b, c in inputs:\n",
    "    a1, b1, d1 = ccx(a, b, 0)      # AND1\n",
    "    a2, b2 = cx(a1, b1)            # XOR1\n",
    "    a3, c3, e3 = ccx(b2, c, 0)     # AND2\n",
    "    b4, s = cx(b2, c3)             # XOR2\n",
    "    \n",
    "    d5 = x(d1)                     # OR ...\n",
    "    e5 = x(e3)                     # \n",
    "    d6, e6, cout = ccx(d5, e5, 1)  #\n",
    "\n",
    "    print(f'{a} | {b} | {c}   || {s} | {cout}    |')"
   ]
  },
  {
   "cell_type": "markdown",
   "id": "2a343472",
   "metadata": {},
   "source": [
    "As expected, the output above matches the truth table for a full adder we showed in the previous chapter. If we wanted to \"uncompute\" these results, we will then apply each an every gate in our circuit but in reverse order.\n",
    "\n",
    "Now, as our circuits grow in complexity, keeping track of line using truth tables becomes rather complicated. However, a very nice property of reversible circuits is that, their input-to-output response can be perfectly mapped onto a matrix. Therefore, we can use linear algebra to perform all of our computations. \n",
    "\n",
    "Understanding this mapping is a core principle in quantum computing, so we will dedicate the [next chapter ](./01_03_linear_algebra.ipynb) to explain how this is done."
   ]
  },
  {
   "cell_type": "markdown",
   "id": "a586e88f",
   "metadata": {},
   "source": [
    "## Footnotes"
   ]
  },
  {
   "cell_type": "markdown",
   "id": "a1b37f80",
   "metadata": {},
   "source": [
    "<a name=\"footnote1\"></a><span style=\"font-size: smaller;\">$^*$Even though Fredkin's paper was published in 1981, this work is referenced in Toffoli's 1980 paper as \"unpublished notes from Prof. Fredkin's lectures collected and organized by Bill Silver\" with 1978 as the publication year. ([go back](#back1))</span>"
   ]
  },
  {
   "cell_type": "markdown",
   "id": "8e50baf0",
   "metadata": {},
   "source": [
    "<a name=\"footnote2\"></a><span style=\"font-size: smaller;\">$^{\\dagger}$The fact that Feynman used an X to denote the circuit diagram for a reversible **NOT** gate is merely coincidental with the notion of using an X as the symbol for its corresponding quantum gate. The reason why we call the quantum **NOT** an $\\text{X}$ gate has to do with its relationship with the Pauli-X matrix (a topic that we will cover in detail in a later chapter). ([go back](#back2))</span>"
   ]
  }
 ],
 "metadata": {
  "kernelspec": {
   "display_name": "Python 3 (ipykernel)",
   "language": "python",
   "name": "python3"
  },
  "language_info": {
   "codemirror_mode": {
    "name": "ipython",
    "version": 3
   },
   "file_extension": ".py",
   "mimetype": "text/x-python",
   "name": "python",
   "nbconvert_exporter": "python",
   "pygments_lexer": "ipython3",
   "version": "3.11.8"
  }
 },
 "nbformat": 4,
 "nbformat_minor": 5
}
