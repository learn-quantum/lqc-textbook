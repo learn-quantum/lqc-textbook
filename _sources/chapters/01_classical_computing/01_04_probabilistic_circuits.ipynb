{
 "cells": [
  {
   "cell_type": "markdown",
   "id": "d4b9a09e",
   "metadata": {},
   "source": [
    "# Probabilistic Computing\n",
    "---"
   ]
  },
  {
   "cell_type": "markdown",
   "id": "f619874a",
   "metadata": {},
   "source": [
    "The field of probabilistic computing, where the concept of randomness is harnessed to enhance certain computations, is currently experiencing a resurgence driven by the explosion of machine learning and AI algorithms that exploit these effects. However, in the context of classical circuits, randomness is almost always associated with the unwanted effects from noise. Bits stored in magnetic drives can randomly flip when exposed to certain magnetic fields, a **NOT** gate could mistakenly invert its output if there's a glitch in its power supply, and every so often, a cosmic ray particle can cause enough charge accumulation to modify values in memory. \n",
    "\n",
    "Therefore, a natural way to introduce probabilistic effects into digital logic is by \"upgrading\" the concept of a bit to a probability bit (p-bit). In this context, a convenient way to represent p-bits is by the use of a [probability vector](https://en.wikipedia.org/wiki/Probability_vector), where an element of the vector represents the probability of measuring the binary value given by the vector index of that element."
   ]
  },
  {
   "cell_type": "markdown",
   "id": "2dcff0d7",
   "metadata": {},
   "source": [
    "## 1. Single-Bit Probabilistic Systems"
   ]
  },
  {
   "cell_type": "markdown",
   "id": "562fca6e",
   "metadata": {},
   "source": [
    "### 1.1 Probabilistic Single-Bit States (p-bits)\n",
    "\n",
    "Let us start by considering the case of a noisy **NOT** gate that, whenever its input is supposed to be $0$, the output is either $0$ with probability of $1/4$, or a $1$ with probability of $3/4$. Physically, this model could describe a poorly-designed circuit where the stage preceding the **NOT** gate is not supplying low enough of a voltage, causing the gate to toggle down to $0$ every so often due to noise:\n",
    "\n",
    "<img src=\"images/01_04_03_noisy_not.png\" align = \"center\" width=\"560\"/>\n",
    "\n",
    "We could represent the output state of uncertainty of this gate with a column vector, where the top element is the probability of the output being $0$, and the bottom element the probability of measuring a $1$:\n",
    "\n",
    "$$ \\vec{p} = \\begin{bmatrix} \\frac{1}{4} \\\\ \\frac{3}{4} \\end{bmatrix} .$$ \n",
    "\n",
    "More generally, a probability vector can be expressed as:\n",
    "\n",
    "$$ \\vec{p} = \\begin{bmatrix} \\varrho_{0} \\\\ \\varrho_{1} \\end{bmatrix} ,$$\n",
    "\n",
    "where $\\varrho_{0}$ and $\\varrho_{1}$ represent the probabilities associated with the state being $0$ or $1$, respectively. Like all probabilities, these vector elements must meet the condition of being bounded between $0$ and $1$ (i.e., $\\varrho_{0}, \\varrho_{1} \\in [0,1]$), and summing up to $1$ (i.e., $\\varrho_{0} + \\varrho_{1} = 1$).\n",
    "\n",
    "From a practical standpoint, this probability vector encodes information about how likely it is to **measure** a $0$ or a $1$ for a given p-bit. Going back to the example of our noisy gate, a measurement could consist of, for example, connecting the output of the gate to a register that stores its value every clock cycle. The register's history will then look something like this:\n",
    "\n",
    "$$ \\{1, 1, 1, 0, 1, 1, 0, 1, 0, 1, 0, 1, 1, 1, 0, 1, 0, 1, 1, 1, \\dots \\}, $$\n",
    "\n",
    "where for a large number of measurements $n$, the frequency of a given outcome ($n_0$ for $0$ or $n_1$ for $1$) with respect to the total number of outcomes approaches the expected probability ($\\varrho_0$ or $\\varrho_1$):\n",
    "\n",
    "$$\n",
    "\\begin{aligned}\n",
    "\\lim_{n\\to\\infty}\\frac{n_0}{n} &= \\varrho_0 = \\frac{1}{4}\n",
    "\\\\\n",
    "\\\\\n",
    "\\lim_{n\\to\\infty}\\frac{n_1}{n} &= \\varrho_1 = \\frac{3}{4}\n",
    "\\end{aligned}\n",
    "$$\n",
    "\n",
    "Let's take a look at how to simulate something like this in Python. We will define a probability vector, and sample $0$ or $1$ using its probability amplitudes. We will use [Matplotlib](https://matplotlib.org/) to plot the results.\n"
   ]
  },
  {
   "cell_type": "code",
   "execution_count": 14,
   "id": "4a3ddd87",
   "metadata": {},
   "outputs": [],
   "source": [
    "import numpy as np\n",
    "import sympy as sp\n",
    "import matplotlib.pyplot as plt"
   ]
  },
  {
   "cell_type": "code",
   "execution_count": 15,
   "id": "a48b2f85",
   "metadata": {},
   "outputs": [
    {
     "data": {
      "text/latex": [
       "$\\displaystyle \\left[\\begin{matrix}0.25\\\\0.75\\end{matrix}\\right]$"
      ],
      "text/plain": [
       "Matrix([\n",
       "[0.25],\n",
       "[0.75]])"
      ]
     },
     "execution_count": 15,
     "metadata": {},
     "output_type": "execute_result"
    }
   ],
   "source": [
    "# Define vector p\n",
    "ϱ0, ϱ1 = (1/4, 3/4)\n",
    "vec_p = np.array([[ϱ0],\n",
    "                  [ϱ1]])\n",
    "sp.Matrix(vec_p)"
   ]
  },
  {
   "cell_type": "code",
   "execution_count": 16,
   "id": "78355691",
   "metadata": {},
   "outputs": [
    {
     "name": "stdout",
     "output_type": "stream",
     "text": [
      "[1 0 1 1 0 1 1 1 1 1 1 1 1 1 0 1 1 0 1 1 1 1 1 0 1 1 1 1 1 1 1 0 1 1 1 1 0\n",
      " 0 1 1 1 1 0 1 1 0 1 0 1 1 1 1 1 1 1 1 1 1 1 0 1 1 1 0 1 1 1 1 1 1 1 1 1 1\n",
      " 1 1 1 1 1 1 0 1 0 1 1 1 0 1 1 1 1 0 0 1 1 1 0 0 1 1 1 1 1 1 1 1 1 1 1 1 1\n",
      " 1 1 1 1 1 1 1 0 1 1 0 1 1 1 0 1 0 0 1 1 1 1 0 1 1 1 1 0 0 1 1 1 1 0 1 0 1\n",
      " 0 1 1 0 1 1 1 1 1 1 1 1 1 1 0 1 1 0 0 1 0 0 0 1 1 1 1 0 1 1 1 0 1 0 1 0 0\n",
      " 1 1 0 1 0 1 1 1 1 1 1 1 1 0 1]\n"
     ]
    }
   ],
   "source": [
    "n_samps = 200                   # number of samples\n",
    "vals = [0, 1]                   # Possible outcomes: 0 or 1\n",
    "probs = (vec_p).reshape(-1)     # Flatten to 1D array with probabilities for 0 and 1\n",
    "\n",
    "# sample 0 or 1 a 100 times using probabilities from p̅\n",
    "samples = np.random.choice(vals, size=n_samps, p=probs)\n",
    "print(samples)"
   ]
  },
  {
   "cell_type": "code",
   "execution_count": 17,
   "id": "1dcaeea1",
   "metadata": {},
   "outputs": [
    {
     "name": "stdout",
     "output_type": "stream",
     "text": [
      "For ϱ0 = 0.25 and 200 samples, the relative frequency of 0s is 0.23\n",
      "For ϱ1 = 0.75 and 200 samples, the relative frequency of 1s is 0.77\n"
     ]
    }
   ],
   "source": [
    "# Calculate frequency of outcomes\n",
    "freq_0 = np.count_nonzero(samples == 0)/n_samps\n",
    "freq_1 = np.count_nonzero(samples == 1)/n_samps\n",
    "\n",
    "print(f'For ϱ0 = {ϱ0} and {n_samps} samples, the relative frequency of 0s is {freq_0}')\n",
    "print(f'For ϱ1 = {ϱ1} and {n_samps} samples, the relative frequency of 1s is {freq_1}')"
   ]
  },
  {
   "cell_type": "code",
   "execution_count": 18,
   "id": "460b4b92",
   "metadata": {},
   "outputs": [
    {
     "data": {
      "image/png": "[encoded data removed]",
      "text/plain": [
       "<Figure size 460.8x345.6 with 1 Axes>"
      ]
     },
     "metadata": {
      "image/png": {
       "height": 311,
       "width": 411
      }
     },
     "output_type": "display_data"
    }
   ],
   "source": [
    "# Plot number of counts for outcomes 0 and 1\n",
    "plt.hist(samples, bins=[-0.3, 0.3, 0.7, 1.3], color='tab:purple')\n",
    "plt.xticks([0,1])\n",
    "plt.xlabel('Outcome')\n",
    "plt.ylabel('Counts')\n",
    "plt.show()"
   ]
  },
  {
   "cell_type": "markdown",
   "id": "e5606573",
   "metadata": {},
   "source": [
    "Now, note that unlike in the previous chapter, where we relabeled the bit vector $\\vec{b}$ to use ket notation $|b\\rangle$, here we have opted to denote our probability vector as $\\vec{p}$. We've purposely done this to emphasize that there are some distinctions between some of the properties of p-bits and qubits. For instance, recall from that the magnitude of a real-valued vector is given by its Euclidean norm:\n",
    "\n",
    "$$ \\|\\vec{p}\\| = \\sqrt{\\varrho_{0}^2 + \\varrho_{1}^2} .$$\n",
    "\n",
    "And because probabilities must always add up to $1$, the length of our vector will actually changes depending on the values of $\\varrho_{0}$ and $\\varrho_{1}$. For example, for $\\vec{p} = \\begin{bmatrix} 1 \\\\ 0 \\end{bmatrix}$, we get $\\|\\vec{p}\\| = 1$. On the other hand, if $\\vec{p} = \\begin{bmatrix} \\frac{1}{4} \\\\ \\frac{3}{4} \\end{bmatrix}$, then $\\|\\vec{p}\\| \\approx 0.79$. The dotted line in the figure below shows how the magnitude of the probability vector changes for different probability values:\n",
    "\n",
    "<img src=\"images/01_04_01_prob_vec_length.png\" align = \"center\" width=\"200\"/>\n",
    "\n",
    "This is very different from what we will encounter for qubits, where for quantum vector $|\\psi\\rangle$ the sum of the each of its elements **squared** always adds up to $1$, which implies $\\|\\psi\\| = 1$ for all $|\\psi\\rangle$. This is depicted below for the specific case of $\\alpha_0, \\alpha_1 \\in [0,1]$.\n",
    "\n",
    "<img src=\"images/01_04_02_prob_amps_vec_length.png\" align = \"center\" width=\"200\"/>"
   ]
  },
  {
   "cell_type": "markdown",
   "id": "65f1493a",
   "metadata": {},
   "source": [
    "### 1.2 Probabilistic Single-Bit Gates\n",
    "\n",
    "Let's reconsider the noisy **NOT** gate for which an input of $0$ results in an output of $0$ with probability $1/4$, and an output of $1$ with probability $3/4$. Now, let's assume that when the input to this gate is $1$, the gate behaves just as expected. This means that its output is $0$ with probability of $1$, and $1$ with probability $0$. We could then construct a matrix $P$ that relates the inputs and outputs according to this relations:\n",
    "\n",
    "$$\n",
    "\\begin{aligned}\n",
    "\\begin{bmatrix} 1 \\\\ 0 \\end{bmatrix} &\\xrightarrow{\\; \\; P \\; \\;} \\begin{bmatrix} \\frac{1}{4} \\\\ \\frac{3}{4} \\end{bmatrix}\n",
    "\\\\\n",
    "\\\\\n",
    "\\begin{bmatrix} 0 \\\\ 1 \\end{bmatrix} &\\xrightarrow{\\; \\; P \\; \\;} \\begin{bmatrix} 1 \\\\ 0 \\end{bmatrix}\n",
    "\\end{aligned}\n",
    "$$\n",
    "\n",
    "Allowing $P$ to be a general matrix with elements $\\rho_{ij}$, we can write the first of these relations as:\n",
    "\n",
    "$$\n",
    "\\begin{aligned}\n",
    "\\begin{bmatrix} \\frac{1}{4} \\\\ \\frac{3}{4} \\end{bmatrix} &= \n",
    "\\begin{bmatrix} \\rho_{00} & \\rho_{01} \\\\ \\rho_{10} & \\rho_{11} \\end{bmatrix} \\begin{bmatrix} 1 \\\\ 0 \\end{bmatrix}\n",
    "\\\\\n",
    "\\\\\n",
    "\\begin{bmatrix} \\frac{1}{4} \\\\ \\frac{3}{4} \\end{bmatrix} &= \\begin{bmatrix} \\rho_{00} \\\\ \\rho_{10} \\end{bmatrix},\n",
    "\\end{aligned}\n",
    "$$\n",
    "\n",
    "which implies $\\rho_{00} = \\frac{1}{4}$ and $\\rho_{10} = \\frac{3}{4}$. Similarly, for the second relation:\n",
    "\n",
    "$$\n",
    "\\begin{aligned}\n",
    "\\begin{bmatrix} 1 \\\\ 0 \\end{bmatrix} &= \n",
    "\\begin{bmatrix} \\rho_{00} & \\rho_{01} \\\\ \\rho_{10} & \\rho_{11} \\end{bmatrix} \\begin{bmatrix} 0 \\\\ 1 \\end{bmatrix}\n",
    "\\\\\n",
    "\\\\\n",
    "\\begin{bmatrix} 1 \\\\ 0 \\end{bmatrix} &= \\begin{bmatrix} \\rho_{01} \\\\ \\rho_{11} \\end{bmatrix},\n",
    "\\end{aligned}\n",
    "$$\n",
    "\n",
    "resulting in $\\rho_{01} = 1$ and $\\rho_{11} = 0$. We can then put together the matrix:\n",
    "\n",
    "$$ P = \\begin{bmatrix} \\frac{1}{4} & 1 \\\\ \\frac{3}{4} & 0 \\end{bmatrix} $$\n",
    "\n",
    "The most important thing to note about these probability matrices is that their corresponding inverse matrix $P^{-1}$ is not physically implementable. This means that we cannot associate them with any sort of reversible gates like the ones we presented in previous chapters for deterministic circuits. Intuitively, this makes sense since probabilities are a measure of uncertainty; therefore, it doesn't make sense to think that the effect of a gate that introduces randomness could be \"canceled out\" by some other probabilistic gate. Let us, for example, look at the inverse matrix of the example above:\n",
    "\n",
    "$$\n",
    "\\begin{aligned}\n",
    "P^{-1} &= \\frac{1}{\\rho_{00}\\rho_{11} - \\rho_{01}\\rho_{10}} \\begin{bmatrix} \\phantom{-}\\rho_{11} & -\\rho_{01} \\\\ -\\rho_{10} & \\phantom{-}\\rho_{00} \\end{bmatrix}\n",
    "\\\\\n",
    "\\\\\n",
    "P^{-1} &= \\frac{1}{\\frac{1}{4} \\times 0 - 1 \\times \\frac{3}{4}} \\begin{bmatrix} \\phantom{-}0 & -1 \\\\ -\\frac{3}{4} & \\phantom{-}\\frac{1}{4} \\end{bmatrix}\n",
    "\\\\\n",
    "\\\\\n",
    "P^{-1} &= \\begin{bmatrix} 0 & \\phantom{-}\\frac{4}{3} \\\\ 1 & -\\frac{1}{3} \\end{bmatrix}\n",
    "\\end{aligned}\n",
    "$$\n",
    "\n",
    "The issue with $P^{-1}$ is that its entries must all be values between $0$ and $1$ since they should correspond to probabilities; and here, the entry $ -\\frac{1}{3}$ clearly is not. As we will see in the next chapters, this is a major distinction with respect to the matrices associated with quantum circuits, which are always invertible.\n",
    "\n",
    "\n",
    "In spite of this drawback, one very nice properties of p-bits is that deterministic reversible circuits do transform probability vectors in the correct manner. In the case of the $\\text{X}$ gate, we can see that when applied to a p-bit, the order of the probabilities in the vector gets flipped:\n",
    "\n",
    "$$\n",
    "\\begin{aligned}\n",
    "\\vec{p}_{out} &= \\text{X } \\vec{p}_{in}\n",
    "\\\\\n",
    "\\\\\n",
    "\\vec{p}_{out} &= \\begin{bmatrix} 0 & 1 \\\\ 1 & 0 \\end{bmatrix} \\begin{bmatrix} \\varrho_{0} \\\\ \\varrho_{1} \\end{bmatrix}\n",
    "\\\\\n",
    "\\\\\n",
    "\\vec{p}_{out} &= \\begin{bmatrix} \\varrho_{1} \\\\ \\varrho_{0} \\end{bmatrix}.\n",
    "\\end{aligned}\n",
    "$$\n",
    "\n",
    "This makes complete sense if we consider, for example, passing through an $\\text{X}$ gate a sequence of values that have probability $\\varrho_0$ of being in state $0$ and $\\varrho_1$ of being in state $1$ . The output will then correspond to the inverted version of that sequence, which will then have opposite probabilities for each of the states:\n",
    "\n",
    "<img src=\"images/01_04_04_pbit_thru_x_gate.png\" align = \"center\" width=\"440\"/>\n",
    "\n",
    "This also generalizes to multi-bit reversible gates, as we will see in the next section. It is also worth noting that the construction of [invertible p-bit gates](https://arxiv.org/pdf/1809.04028) is not trivial, but there have been some recent efforts to develop such technology."
   ]
  },
  {
   "cell_type": "markdown",
   "id": "044acdde",
   "metadata": {},
   "source": [
    "## 2. Multi-Bit Probabilistic Systems"
   ]
  },
  {
   "cell_type": "markdown",
   "id": "0d9b2761",
   "metadata": {},
   "source": [
    "### 2.1 Probabilistic Multi-Bit States\n",
    "\n",
    "A nice property of probability vectors is that, for the case of statistically-independent p-bits, we can still use the Kronecker product to construct the vector that describes a larger system. For example, take the following two p-bits:\n",
    "\n",
    "$$ \n",
    "\\vec{p}_0 = \\begin{bmatrix} \\frac{1}{4} \\\\ \\frac{3}{4} \\end{bmatrix} \\qquad \n",
    "\\vec{p}_1 = \\begin{bmatrix} \\frac{2}{3} \\\\ \\frac{1}{3} \\end{bmatrix}\n",
    "$$\n",
    "\n",
    "The composite system will have a probability vector given by:\n",
    "\n",
    "$$ \n",
    "\\begin{aligned}\n",
    "\\vec{p} &= \\vec{p}_1  \\otimes \\vec{p}_0\n",
    "\\\\\n",
    "\\\\\n",
    "\\vec{p} &= \\begin{bmatrix} \\frac{2}{3} \\\\ \\frac{1}{3} \\end{bmatrix} \\otimes \n",
    "           \\begin{bmatrix} \\frac{1}{4} \\\\ \\frac{3}{4} \\end{bmatrix}\n",
    "\\\\\n",
    "\\\\\n",
    "\\vec{p} &= \\begin{bmatrix} \\frac{1}{6} \\\\ \\frac{1}{2} \\\\ \\frac{1}{12} \\\\ \\frac{1}{4} \\end{bmatrix} .\n",
    "\\end{aligned}\n",
    "$$\n",
    "\n",
    "What this is implies is that, the corresponding probabilities of measuring the four possible p-bit states $\\left\\{00, 01, 10, 11 \\right\\}$ are given by $\\left\\{\\frac{1}{6}, \\frac{1}{2}, \\frac{1}{12}, \\frac{1}{4}\\right\\}$, respectively. \n",
    "\n",
    "\n",
    "In general:\n",
    "\n",
    "$$ \n",
    "\\begin{aligned}\n",
    "\\vec{p} &= \\vec{p}_{n-1} \\otimes \\, ... \\otimes \\, \\vec{p}_1 \\otimes \\vec{p}_0, \n",
    "\\\\\n",
    "\\\\\n",
    "\\vec{p} &= \\bigotimes_{i=1}^{n} \\vec{p}_{n-i}.\n",
    "\\end{aligned}\n",
    "$$\n",
    "\n",
    "And since each $\\vec{p}_{i}$ is of dimension $2$, the dimension of $\\vec{p}$ will be $N = 2^n$ and can be written as:\n",
    "\n",
    "$$\\vec{p} = \\begin{bmatrix} \\varrho_0 \\\\ \\varrho_1 \\\\ \\varrho_2 \\\\ \\vdots \\\\ \\varrho_{N - 1} \\end{bmatrix}, $$\n",
    "\n",
    "where each  $\\varrho_j \\in [0,1]$, and must meet the condition that probabilities need to add up to $1$:\n",
    "\n",
    "$$\\sum_{j = 0}^{N-1} \\varrho_j = 1$$"
   ]
  },
  {
   "cell_type": "markdown",
   "id": "c9c3558f",
   "metadata": {},
   "source": [
    "### 2.2 Probabilistic Multi-Bit Gates\n",
    "\n",
    "Just like with probability vectors, we can use the Kronecker product on single p-bit probability matrices to represent lager systems. In general:\n",
    "\n",
    "$$ P = P_{n-1} \\otimes \\dots \\otimes P_1 \\otimes P_0, $$ \n",
    "\n",
    "where each $P_i$ is a $2 \\times 2$ matrix acting on a single p-bit. Let's take for example the case of the deterministic $\\text{X}$ gate acting on p-bit $\\vec{p}_0$ and a probability matrix $R$ acting on $\\vec{p}_1$ that represents a circuit whose output is always $0$ or $1$ with probability of $1/2$ independent of the input. The overall matrix for this system is given by:\n",
    "\n",
    "$$ \n",
    "\\begin{aligned}\n",
    "P &= R \\otimes X \n",
    "\\\\\n",
    "\\\\\n",
    "P &= \\begin{bmatrix} \\frac{1}{2} & \\frac{1}{2} \\\\ \\frac{1}{2} & \\frac{1}{2} \\end{bmatrix} \\otimes \\begin{bmatrix} 0 & 1 \\\\ 1 & 0 \\end{bmatrix}\n",
    "\\end{aligned}\n",
    "$$\n",
    "\n",
    "Let's use Python to calculate the overall matrix for the system:"
   ]
  },
  {
   "cell_type": "code",
   "execution_count": 19,
   "id": "c0d3db11",
   "metadata": {},
   "outputs": [
    {
     "data": {
      "text/latex": [
       "$\\displaystyle \\left[\\begin{matrix}0 & 0.5 & 0 & 0.5\\\\0.5 & 0 & 0.5 & 0\\\\0 & 0.5 & 0 & 0.5\\\\0.5 & 0 & 0.5 & 0\\end{matrix}\\right]$"
      ],
      "text/plain": [
       "Matrix([\n",
       "[  0, 0.5,   0, 0.5],\n",
       "[0.5,   0, 0.5,   0],\n",
       "[  0, 0.5,   0, 0.5],\n",
       "[0.5,   0, 0.5,   0]])"
      ]
     },
     "execution_count": 19,
     "metadata": {},
     "output_type": "execute_result"
    }
   ],
   "source": [
    "X = np.array([[0,1],\n",
    "              [1,0]])\n",
    "R = np.array([[1/2,1/2],\n",
    "              [1/2,1/2]])\n",
    "\n",
    "P = np.kron(R, X)\n",
    "\n",
    "sp.Matrix(P)"
   ]
  },
  {
   "cell_type": "markdown",
   "id": "b4cb5d99",
   "metadata": {},
   "source": [
    "From this result, it is not entirely obvious that the system should act deterministically on $\\vec{p}_0$ and randomly on $\\vec{p}_1$, so let us, for example, pass an input where both p-bits are $0$. We should see a vector at the output that represents $\\vec{p}_0$ being $1$ and $\\vec{p}_1$ being $0$ or $1$ each with probability of $1/2$:"
   ]
  },
  {
   "cell_type": "code",
   "execution_count": 20,
   "id": "21011ed6",
   "metadata": {},
   "outputs": [
    {
     "data": {
      "text/latex": [
       "$\\displaystyle \\left[\\begin{matrix}1\\\\0\\\\0\\\\0\\end{matrix}\\right]$"
      ],
      "text/plain": [
       "Matrix([\n",
       "[1],\n",
       "[0],\n",
       "[0],\n",
       "[0]])"
      ]
     },
     "execution_count": 20,
     "metadata": {},
     "output_type": "execute_result"
    }
   ],
   "source": [
    "# vectors for p0 and p1 being equal to 0\n",
    "p1 = p0 = np.array([[1],\n",
    "                    [0]])\n",
    "\n",
    "# p vector for composite system\n",
    "p_in = np.kron(p1, p0)\n",
    "\n",
    "sp.Matrix(p_in)"
   ]
  },
  {
   "cell_type": "code",
   "execution_count": 21,
   "id": "64fea860",
   "metadata": {},
   "outputs": [
    {
     "data": {
      "text/latex": [
       "$\\displaystyle \\left[\\begin{matrix}0\\\\0.5\\\\0\\\\0.5\\end{matrix}\\right]$"
      ],
      "text/plain": [
       "Matrix([\n",
       "[  0],\n",
       "[0.5],\n",
       "[  0],\n",
       "[0.5]])"
      ]
     },
     "execution_count": 21,
     "metadata": {},
     "output_type": "execute_result"
    }
   ],
   "source": [
    "# Multiply p_in by matrix P\n",
    "p_out = P @ p_in\n",
    "\n",
    "sp.Matrix(p_out)"
   ]
  },
  {
   "cell_type": "markdown",
   "id": "d3befeb4",
   "metadata": {},
   "source": [
    "What this vector represents is finding the total system in state $01$ with probability of $1/2$ and state $11$ with probability of $1/2$, which means the p-bit corresponding to $\\vec{p}_0$ is always $1$ as expected, and $\\vec{p}_1$ is $0$ or $1$ with probability $1/2$, as expected. We can do this for inputs where the p-bits are not deterministic, and also check that the math still works."
   ]
  },
  {
   "cell_type": "code",
   "execution_count": 27,
   "id": "4c582dad",
   "metadata": {},
   "outputs": [
    {
     "data": {
      "text/latex": [
       "$\\displaystyle \\left[\\begin{matrix}0.06667\\\\0.03333\\\\0.6\\\\0.3\\end{matrix}\\right]$"
      ],
      "text/plain": [
       "Matrix([\n",
       "[0.06667],\n",
       "[0.03333],\n",
       "[    0.6],\n",
       "[    0.3]])"
      ]
     },
     "execution_count": 27,
     "metadata": {},
     "output_type": "execute_result"
    }
   ],
   "source": [
    "# p0 is a vector with probabilities 2/3 and 1/3 for 0 and 1\n",
    "p0 = np.array([[2/3],\n",
    "               [1/3]])\n",
    "\n",
    "# p1 is a vector with probabilities 1/10 and 9/10 for 0 and 1\n",
    "p1 = np.array([[1/10],\n",
    "               [9/10]])\n",
    "\n",
    "# p vector for composite system\n",
    "p_in = np.kron(p1, p0)\n",
    "\n",
    "sp.Matrix(p_in).evalf(n=4)"
   ]
  },
  {
   "cell_type": "code",
   "execution_count": 28,
   "id": "fb129b9d",
   "metadata": {},
   "outputs": [
    {
     "data": {
      "text/latex": [
       "$\\displaystyle \\left[\\begin{matrix}0.1667\\\\0.3333\\\\0.1667\\\\0.3333\\end{matrix}\\right]$"
      ],
      "text/plain": [
       "Matrix([\n",
       "[0.1667],\n",
       "[0.3333],\n",
       "[0.1667],\n",
       "[0.3333]])"
      ]
     },
     "execution_count": 28,
     "metadata": {},
     "output_type": "execute_result"
    }
   ],
   "source": [
    "# Multiply p_in by matrix P\n",
    "p_out = P @ p_in\n",
    "\n",
    "sp.Matrix(p_out).evalf(n=4)"
   ]
  },
  {
   "cell_type": "markdown",
   "id": "f61f7e08",
   "metadata": {},
   "source": [
    "This vector implies that the probability of finding state $00$ is $1/6$. This checks out because we initialized $\\vec{p}_0$ to be $1$ with probability $1/3$, so after applying the $\\text{X}$ gate, the output state should be $0$ with probability of $1/3$. In the case of $\\vec{p}_1$, we always get $0$ with probability $1/2$ independent of the input, so the probability of finding $00$ is $1/3 \\times 1/2 = 1/6$.\n",
    "\n",
    "It is also possible to construct multi p-bit matrices that cannot be expressed as the Kronecker product of individual p-bit matrices. These matrices are known as [stochastic matrices](https://en.wikipedia.org/wiki/Stochastic_matrix) and represent the transition from one possible state of a system to another, where the future state of a single p-bit depends on the previous state of all other p-bits in the system. For instance, the matrix below represents a system where the state of p-bit $\\vec{p}_0$ will remain unchanged if $\\vec{p}_1$ is in state $0$, but will randomize $\\vec{p}_0$ if $\\vec{p}_1$ is in state $1$. It turns out, we cannot decompose this matrix into a Kronecker product of separate single p-bit matrices because the results of the state of a p-bit depend on the state of the other.\n",
    "\n",
    "$$ P = \\begin{bmatrix} 1 & 0 & 0 & 0 \\\\ \n",
    "                       0 & 1 & 0 & 0 \\\\ \n",
    "                       0 & 0 & \\frac{1}{2} & \\frac{1}{2} \\\\ \n",
    "                       0 & 0 & \\frac{1}{2} & \\frac{1}{2} \\end{bmatrix}$$\n",
    "                       \n",
    "Let's check the output state for when the input is $10$:"
   ]
  },
  {
   "cell_type": "code",
   "execution_count": 33,
   "id": "5dec0698",
   "metadata": {},
   "outputs": [
    {
     "data": {
      "text/latex": [
       "$\\displaystyle \\left[\\begin{matrix}0\\\\0\\\\0.5\\\\0.5\\end{matrix}\\right]$"
      ],
      "text/plain": [
       "Matrix([\n",
       "[  0],\n",
       "[  0],\n",
       "[0.5],\n",
       "[0.5]])"
      ]
     },
     "execution_count": 33,
     "metadata": {},
     "output_type": "execute_result"
    }
   ],
   "source": [
    "# Initialize p0 in 0 and p1 in 1:\n",
    "p0 = np.array([[1],\n",
    "               [0]])\n",
    "\n",
    "p1 = np.array([[0],\n",
    "               [1]])\n",
    "\n",
    "# Combine states into single vector\n",
    "p_in = np.kron(p1,p0)\n",
    "\n",
    "# Define stochastic matrix\n",
    "P = np.array([[1,0,0,0],\n",
    "              [0,1,0,0],\n",
    "              [0,0,1/2,1/2],\n",
    "              [0,0,1/2,1/2]])\n",
    "\n",
    "p_out = P @ p_in\n",
    "\n",
    "sp.Matrix(p_out)"
   ]
  },
  {
   "cell_type": "markdown",
   "id": "783c7765",
   "metadata": {},
   "source": [
    "This shows that, when $\\vec{p}_1$ is $1$, the output is $10$ and $11$ each with probability of $1/2$, which means $\\vec{p}_1$ remains unchanged, but $\\vec{p}_0$ went from being $0$ to being $0$ or $1$ with equal probability.\n",
    "\n",
    "Now, just like with single p-bit probability matrices, stochastic matrices in general are non-invertible, so they do not represent reversible circuits. But as mentioned before, when p-bits are applied to deterministic reversible matrices, their states do get inverted correctly. For instance, let's look at a general 4 p-bit vector, and pass it through a circuit given by the matrix $Q = (X \\otimes I) \\; \\text{CX}$, and then through the circuit corresponding to $Q^{-1}$:\n",
    "\n",
    "<img src=\"images/01_04_05_pbit_thru_circuit.png\" align = \"center\" width=\"220\"/>\n",
    "\n"
   ]
  },
  {
   "cell_type": "code",
   "execution_count": 40,
   "id": "5c781264",
   "metadata": {},
   "outputs": [
    {
     "data": {
      "text/latex": [
       "$\\displaystyle \\left[\\begin{matrix}ϱ_{0}\\\\ϱ_{1}\\\\ϱ_{2}\\\\ϱ_{3}\\end{matrix}\\right]$"
      ],
      "text/plain": [
       "Matrix([\n",
       "[ϱ0],\n",
       "[ϱ1],\n",
       "[ϱ2],\n",
       "[ϱ3]])"
      ]
     },
     "execution_count": 40,
     "metadata": {},
     "output_type": "execute_result"
    }
   ],
   "source": [
    "# define general input probability vector\n",
    "ϱ0, ϱ1, ϱ2, ϱ3 = sp.symbols('ϱ0, ϱ1, ϱ2, ϱ3')\n",
    "p_in = sp.Matrix([ϱ0, ϱ1, ϱ2, ϱ3])\n",
    "p_in"
   ]
  },
  {
   "cell_type": "code",
   "execution_count": 41,
   "id": "446c966f",
   "metadata": {},
   "outputs": [
    {
     "data": {
      "text/latex": [
       "$\\displaystyle \\left[\\begin{matrix}1 & 0 & 0 & 0\\\\0 & 1 & 0 & 0\\\\0 & 0 & 0 & 1\\\\0 & 0 & 1 & 0\\end{matrix}\\right]$"
      ],
      "text/plain": [
       "Matrix([\n",
       "[1, 0, 0, 0],\n",
       "[0, 1, 0, 0],\n",
       "[0, 0, 0, 1],\n",
       "[0, 0, 1, 0]])"
      ]
     },
     "execution_count": 41,
     "metadata": {},
     "output_type": "execute_result"
    }
   ],
   "source": [
    "# define CX matrix\n",
    "CX = sp.Matrix([[1,0,0,0],\n",
    "                [0,1,0,0],\n",
    "                [0,0,0,1],\n",
    "                [0,0,1,0]])\n",
    "CX"
   ]
  },
  {
   "cell_type": "code",
   "execution_count": 47,
   "id": "f0733c1b",
   "metadata": {},
   "outputs": [
    {
     "data": {
      "text/latex": [
       "$\\displaystyle \\left[\\begin{matrix}0 & 0 & 1 & 0\\\\0 & 0 & 0 & 1\\\\1 & 0 & 0 & 0\\\\0 & 1 & 0 & 0\\end{matrix}\\right]$"
      ],
      "text/plain": [
       "Matrix([\n",
       "[0, 0, 1, 0],\n",
       "[0, 0, 0, 1],\n",
       "[1, 0, 0, 0],\n",
       "[0, 1, 0, 0]])"
      ]
     },
     "execution_count": 47,
     "metadata": {},
     "output_type": "execute_result"
    }
   ],
   "source": [
    "# define X ⊗ I matrix\n",
    "X = np.array([[0,1],\n",
    "              [1,0]])\n",
    "\n",
    "I = np.array([[1,0],\n",
    "              [0,1]])\n",
    "\n",
    "XI = sp.Matrix(np.kron(X,I))\n",
    "XI"
   ]
  },
  {
   "cell_type": "code",
   "execution_count": 48,
   "id": "e6e775e1",
   "metadata": {},
   "outputs": [
    {
     "data": {
      "text/latex": [
       "$\\displaystyle \\left[\\begin{matrix}0 & 0 & 0 & 1\\\\0 & 0 & 1 & 0\\\\1 & 0 & 0 & 0\\\\0 & 1 & 0 & 0\\end{matrix}\\right]$"
      ],
      "text/plain": [
       "Matrix([\n",
       "[0, 0, 0, 1],\n",
       "[0, 0, 1, 0],\n",
       "[1, 0, 0, 0],\n",
       "[0, 1, 0, 0]])"
      ]
     },
     "execution_count": 48,
     "metadata": {},
     "output_type": "execute_result"
    }
   ],
   "source": [
    "# compose circuit matrix\n",
    "Q = XI @ CX\n",
    "Q"
   ]
  },
  {
   "cell_type": "code",
   "execution_count": 49,
   "id": "034c8389",
   "metadata": {},
   "outputs": [
    {
     "data": {
      "text/latex": [
       "$\\displaystyle \\left[\\begin{matrix}ϱ_{3}\\\\ϱ_{2}\\\\ϱ_{0}\\\\ϱ_{1}\\end{matrix}\\right]$"
      ],
      "text/plain": [
       "Matrix([\n",
       "[ϱ3],\n",
       "[ϱ2],\n",
       "[ϱ0],\n",
       "[ϱ1]])"
      ]
     },
     "execution_count": 49,
     "metadata": {},
     "output_type": "execute_result"
    }
   ],
   "source": [
    "# pass p_in through Q\n",
    "p_int = Q @ p_in\n",
    "p_int"
   ]
  },
  {
   "cell_type": "code",
   "execution_count": 51,
   "id": "1ef7c0b7",
   "metadata": {},
   "outputs": [
    {
     "data": {
      "text/latex": [
       "$\\displaystyle \\left[\\begin{matrix}ϱ_{0}\\\\ϱ_{1}\\\\ϱ_{2}\\\\ϱ_{3}\\end{matrix}\\right]$"
      ],
      "text/plain": [
       "Matrix([\n",
       "[ϱ0],\n",
       "[ϱ1],\n",
       "[ϱ2],\n",
       "[ϱ3]])"
      ]
     },
     "execution_count": 51,
     "metadata": {},
     "output_type": "execute_result"
    }
   ],
   "source": [
    "# pass p_in through Q⁻¹\n",
    "p_out = Q.inv() @ p_int\n",
    "p_out"
   ]
  },
  {
   "cell_type": "markdown",
   "id": "76b2a843",
   "metadata": {},
   "source": [
    "As can be seen, after applying $Q^{-1}$, we recovered the original vector. This is because the matrices that represent deterministic reversible circuits are [permutation matrices](https://en.wikipedia.org/wiki/Permutation_matrix) that simply change the order of the elements of the vectors they act on. And applying the inverse simply places the elements back into their original order."
   ]
  },
  {
   "cell_type": "markdown",
   "id": "fb834e4e",
   "metadata": {},
   "source": [
    "Now that we have an understanding of deterministic and probabilistic classical systems, we can dive into the world of quantum systems. In the next chapter we will introduce these ideas, and highlight how they differ from what we have discuss so far."
   ]
  }
 ],
 "metadata": {
  "kernelspec": {
   "display_name": "Python 3 (ipykernel)",
   "language": "python",
   "name": "python3"
  },
  "language_info": {
   "codemirror_mode": {
    "name": "ipython",
    "version": 3
   },
   "file_extension": ".py",
   "mimetype": "text/x-python",
   "name": "python",
   "nbconvert_exporter": "python",
   "pygments_lexer": "ipython3",
   "version": "3.11.9"
  }
 },
 "nbformat": 4,
 "nbformat_minor": 5
}
