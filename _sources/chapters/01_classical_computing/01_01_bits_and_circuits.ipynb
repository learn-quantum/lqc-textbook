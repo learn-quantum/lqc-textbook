{
 "cells": [
  {
   "cell_type": "markdown",
   "id": "42475df3",
   "metadata": {},
   "source": [
    "# Bits and Digital Circuits\n",
    "<hr></hr>"
   ]
  },
  {
   "cell_type": "markdown",
   "id": "11af7551",
   "metadata": {},
   "source": [
    "Before diving into the world of quantum computing, it is helpful to do a quick review of some of the basics of classical computation. This will allow us to gradually introduce some of the most important concepts that make quantum information different from its classical counterpart. \n",
    "\n",
    "Even if you understand digital systems fairly well, it is still worth skimming through the following few chapters since we will be discussing how the model of computation can be expanded to incorporate randomness into our systems, and how logic gates can be modified to make operations reversible."
   ]
  },
  {
   "cell_type": "markdown",
   "id": "6eb39b34",
   "metadata": {},
   "source": [
    "## 1. Binary Numbers\n",
    "\n",
    "All modern computers and communication systems rely on the use of binary numbers. The fundamental unit of a binary number is the <span style=\"color:#a883f7\">**bit**</span>, which can only take one of two values: $0$ or $1$. But just like with decimal numbers, we can express larger binary values by concatenating bits together. For example, with 3 bits, we can express up to 8 different binary numbers:\n",
    "\n",
    "| Binary | Decimal |\n",
    "| :-: | :-: |\n",
    "| $000$ | $0$ |\n",
    "| $001$ | $1$ |\n",
    "| $010$ | $2$ |\n",
    "| $011$ | $3$ |\n",
    "| $100$ | $4$ |\n",
    "| $101$ | $5$ |\n",
    "| $110$ | $6$ |\n",
    "| $111$ | $7$ |\n",
    "\n",
    "In general, $n$ bits allow us to express up to $2^n$ different values. So, an $n$-bit binary number $b$ can be represented as:\n",
    "\n",
    "$$ b = b_{n-1} ... b_1 b_0 ,$$\n",
    "\n",
    "where each bit $b_i$ can take the value $0$ or $1$. We will often write this as $b_i \\in \\{0, 1\\}$.\n",
    "\n",
    "In this definition of a binary number $b$, the bit most to the left, $b_0$, is known as the least significant bit (LSB). The bit most to the right, $b_{n-1}$, is known as the most significant bit (MSB).\n",
    "\n",
    "To convert a binary number $b$ to a decimal integer $x$, we simply take each of the individual bits, and multiply them by $2$ exponentiated to the bit's significance, and then sum them up:\n",
    "\n",
    "$$ x =  2^{n-1} b_{n-1} + ... + 2^{1} b_{1} + 2^{0} b_{0}, $$\n",
    "\n",
    "which we can write more compactly as using big-sum notation:\n",
    "\n",
    "$$ x = \\sum_{i = 0}^{n-1} 2^{i} b_i .$$\n",
    "\n",
    "So, to represent, for example, the binary value $b = b_3 b_2 b_1 b_0 = 1101$ in decimal, we write:\n",
    "\n",
    "$$ \n",
    "\\begin{aligned}\n",
    "x &=  2^{3} b_{3} + 2^{2} b_{2} + 2^{1} b_{1} + 2^{0} b_{0}\n",
    "\\\\\n",
    "\\\\\n",
    "x &=  8 \\times 1 + 4 \\times 1 + 2 \\times 0 + 1 \\times 1\n",
    "\\\\\n",
    "\\\\\n",
    "x &=  13\n",
    "\\end{aligned}\n",
    "$$\n",
    "\n",
    "Doing this manually is a tedious process. Luckily we can use Python to do this conversion for us. In Python we can represent binary numbers by using the prefix `0b`. These values still get treated like other integers, so if we, for example, print them, the output displays the corresponding decimal value:"
   ]
  },
  {
   "cell_type": "code",
   "execution_count": 1,
   "id": "d657a3c3",
   "metadata": {},
   "outputs": [
    {
     "name": "stdout",
     "output_type": "stream",
     "text": [
      "13\n"
     ]
    }
   ],
   "source": [
    "x = 0b1101\n",
    "print(x)"
   ]
  },
  {
   "cell_type": "markdown",
   "id": "2fa144a2",
   "metadata": {},
   "source": [
    "Using this notation, we can also perform the same arithmetic operations we use for decimal integers:"
   ]
  },
  {
   "cell_type": "code",
   "execution_count": 2,
   "id": "80958786",
   "metadata": {},
   "outputs": [
    {
     "name": "stdout",
     "output_type": "stream",
     "text": [
      "20\n"
     ]
    }
   ],
   "source": [
    "x = 0b1011 + 0b1001  # in decimal: 11 + 9 = 20\n",
    "print(x)"
   ]
  },
  {
   "cell_type": "markdown",
   "id": "b29299a5",
   "metadata": {},
   "source": [
    "On the other hand, to convert a decimal integer $x$ into a binary number $b$, we can find the $i^{\\text{th}}$ bit of $b$ using the following expression:\n",
    "\n",
    "$$ b_i = \\left\\lfloor\\frac{x}{2^i}\\right\\rfloor \\text{mod } 2 . $$\n",
    "\n",
    "If this expression looks intimidating, don't worry, it really isn't. Here, $\\lfloor \\, \\cdot \\, \\rfloor$ is the [floor function](https://en.wikipedia.org/wiki/Floor_and_ceiling_functions), which returns the integer part of its input. For example $\\lfloor 2.71828 \\rfloor = 2$. Furthermore, $a \\text{ mod } m$ represents the [modulo operation](https://en.wikipedia.org/wiki/Modulo), which returns the remainder of diving $a$ by $m$. For instance, $5 \\text{ mod } 2 = 1$ because $5/2 = 2$ with a remainder of $1$. The example below should clarify this further.\n",
    "\n",
    "The full binary representation of $x$ can then be found by multiplying each $b_i$ by its corresponding power of $10$, and adding them up:\n",
    "\n",
    "$$ b = \\sum_{i = 0}^{n-1} 10^{i} \\left(\\left\\lfloor\\frac{x}{2^i}\\right\\rfloor \\text{mod } 2 \\right).$$\n",
    "\n",
    "As an example, to convert the decimal integer $13$ into a 4-bit binary number, we would take:\n",
    "\n",
    "$$ \n",
    "\\begin{aligned}\n",
    "b &= 10^{3} \\left(\\left\\lfloor\\frac{13}{2^3}\\right\\rfloor \\text{mod } 2 \\right) +\n",
    "     10^{2} \\left(\\left\\lfloor\\frac{13}{2^2}\\right\\rfloor \\text{mod } 2 \\right) +\n",
    "     10^{1} \\left(\\left\\lfloor\\frac{13}{2^1}\\right\\rfloor \\text{mod } 2 \\right) +\n",
    "     10^{0} \\left(\\left\\lfloor\\frac{13}{2^0}\\right\\rfloor \\text{mod } 2 \\right)\n",
    "\\\\\n",
    "\\\\\n",
    "b &= 10^{3} \\left(1 \\text{ mod } 2 \\right) +\n",
    "     10^{2} \\left(3 \\text{ mod } 2 \\right) +\n",
    "     10^{1} \\left(6 \\text{ mod } 2 \\right) +\n",
    "     10^{0} \\left(13 \\text{ mod } 2 \\right)\n",
    "\\\\ \n",
    "\\\\\n",
    "b &= 1000 \\times 1 +\n",
    "     100 \\times 1 +\n",
    "     10 \\times 0 +\n",
    "     1 \\times 1\n",
    "\\\\  \n",
    "\\\\\n",
    "b &= 1101\n",
    "\\\\\n",
    "\\end{aligned}\n",
    "$$\n",
    "\n",
    "One important note here is that, in this example, we picked the exact number of bits to get the correct binary representation for $13$. However, if we would have picked $n$ to be $3$ or less, we would have ended up with the incorrect representation. So, to guarantee we can correctly express a decimal integer (greater than $0$) in binary, we need to make sure to pick $n$ to be:\n",
    "\n",
    "$$ n \\geq \\lfloor \\log_2 (x) + 1 \\rfloor , $$\n",
    "\n",
    "where again, $\\lfloor \\, \\cdot \\, \\rfloor$ is the floor function. So, to accurately represent $13$ in binary, we need:\n",
    "\n",
    "$$ n \\geq \\lfloor \\log_2 (13) + 1 \\rfloor = 4 . $$\n",
    "\n",
    "Again, the concepts above are important to deepen our understanding, but we don't need to go through the pain of calculating every one of these steps when we can simply rely on Python. So, to convert a decimal integer to binary, we can use the `bin()` function:"
   ]
  },
  {
   "cell_type": "code",
   "execution_count": 3,
   "id": "d5beef8e",
   "metadata": {},
   "outputs": [
    {
     "name": "stdout",
     "output_type": "stream",
     "text": [
      "0b1101\n"
     ]
    }
   ],
   "source": [
    "b = bin(13)\n",
    "print(b)"
   ]
  },
  {
   "cell_type": "markdown",
   "id": "b22bc221",
   "metadata": {},
   "source": [
    "Now, one thing to note here is that the `bin()` function does not return an integer value, but rather a string of characters that represents our number in binary. For example, as we saw before, representing number $13$ as `0b1101` returns an integer (in Python denoted as `int`):"
   ]
  },
  {
   "cell_type": "code",
   "execution_count": 4,
   "id": "5172f7ae",
   "metadata": {},
   "outputs": [
    {
     "name": "stdout",
     "output_type": "stream",
     "text": [
      "<class 'int'>\n"
     ]
    }
   ],
   "source": [
    "print(type(0b1101))"
   ]
  },
  {
   "cell_type": "markdown",
   "id": "f77317d5",
   "metadata": {},
   "source": [
    "whereas expressing $13$ in binary using `bin` returns a string (`str`):"
   ]
  },
  {
   "cell_type": "code",
   "execution_count": 5,
   "id": "12944b66",
   "metadata": {},
   "outputs": [
    {
     "name": "stdout",
     "output_type": "stream",
     "text": [
      "<class 'str'>\n"
     ]
    }
   ],
   "source": [
    "print(type(bin(13)))"
   ]
  },
  {
   "cell_type": "markdown",
   "id": "c9e7424d",
   "metadata": {},
   "source": [
    "This means that we can't really perform arithmetic operations directly on these objects and get the right result. For example, if we try to \"add\" two binary strings, Python treats the symbol `+` as a concatenation operator rather than numerical addition:"
   ]
  },
  {
   "cell_type": "code",
   "execution_count": 6,
   "id": "c85a8ef4",
   "metadata": {},
   "outputs": [
    {
     "name": "stdout",
     "output_type": "stream",
     "text": [
      "The result in b: 0b10110b1001 is not the correct representation for the number 20: 0b10100\n"
     ]
    }
   ],
   "source": [
    "b = bin(11) + bin(9)  # in decimal: 11 + 9 = 20\n",
    "print(f'The result in b: {b} is not the correct representation for the number 20: {bin(20)}')"
   ]
  },
  {
   "cell_type": "markdown",
   "id": "40b5ce09",
   "metadata": {},
   "source": [
    "Therefore, we need to be careful when dealing with binary strings and always make sure they are in the right format when we want to perform certain operations. Now, luckily, we can always convert back a binary string into an integer in Python by using the `int()` function:"
   ]
  },
  {
   "cell_type": "code",
   "execution_count": 7,
   "id": "1e23d5b4",
   "metadata": {},
   "outputs": [
    {
     "name": "stdout",
     "output_type": "stream",
     "text": [
      "value in binary: 0b1101\n",
      "value in decimal: 13\n"
     ]
    }
   ],
   "source": [
    "b = bin(13)  # converts 13 into a binary string\n",
    "print(f'value in binary: {b}')\n",
    "x = int(b, 2) # converts the binary string back to an integer\n",
    "print(f'value in decimal: {x}')"
   ]
  },
  {
   "cell_type": "markdown",
   "id": "fa482da4",
   "metadata": {},
   "source": [
    "Notice that when we did `int(b, 2)`, we not only passed the value `b` which we want to convert back to decimal, but also base that number is expressed in (in this case, base `2` for binary). So, if we have binary strings and want to perform certain operations on them, we can always convert them back to decimal integers using this function, and then convert them back to binary strings. \n",
    "\n",
    "It is also worth noting that the strings we pass to the `int` function do not necessarily have to have the prefix `0b`. For instance:"
   ]
  },
  {
   "cell_type": "code",
   "execution_count": 8,
   "id": "fc6134df",
   "metadata": {},
   "outputs": [
    {
     "name": "stdout",
     "output_type": "stream",
     "text": [
      "13\n"
     ]
    }
   ],
   "source": [
    "b = '1101'\n",
    "print(int(b,2))"
   ]
  },
  {
   "cell_type": "markdown",
   "id": "72f8617d",
   "metadata": {},
   "source": [
    "This means that we can often drop the `0b` prefix of a binary representation without having to worry about adding it again if we need to convert the value back to decimal. Since strings in Python are indexable, we can easily do this by simply storing the portion of string after the first two characters:"
   ]
  },
  {
   "cell_type": "code",
   "execution_count": 9,
   "id": "19b6fcc4",
   "metadata": {},
   "outputs": [
    {
     "name": "stdout",
     "output_type": "stream",
     "text": [
      "1101\n"
     ]
    }
   ],
   "source": [
    "b = bin(13)[2:]\n",
    "print(b)"
   ]
  },
  {
   "cell_type": "markdown",
   "id": "2401efe1",
   "metadata": {},
   "source": [
    "Another important aspect of using the `bin()` function is that it always returns a string using the minimum number of bits required to represent the input number. For instance, notice how the number of bits changes below from 1 to 3 as we increase the decimal value:"
   ]
  },
  {
   "cell_type": "code",
   "execution_count": 10,
   "id": "da285da9",
   "metadata": {},
   "outputs": [
    {
     "name": "stdout",
     "output_type": "stream",
     "text": [
      "0: 0\n",
      "1: 1\n",
      "2: 10\n",
      "3: 11\n",
      "4: 100\n",
      "5: 101\n",
      "6: 110\n",
      "7: 111\n"
     ]
    }
   ],
   "source": [
    "for i in range(2**3):\n",
    "    b = bin(i)[2:]\n",
    "    print(f'{i}: {b}')"
   ]
  },
  {
   "cell_type": "markdown",
   "id": "f6161b7e",
   "metadata": {},
   "source": [
    "However, we will often want to express different binary numbers using a fix number of bits. For this, we can pad our string with zeros by using the `zfill()` method:"
   ]
  },
  {
   "cell_type": "code",
   "execution_count": 11,
   "id": "cd69ba4e",
   "metadata": {
    "scrolled": true
   },
   "outputs": [
    {
     "name": "stdout",
     "output_type": "stream",
     "text": [
      "0: 0000\n",
      "1: 0001\n",
      "2: 0010\n",
      "3: 0011\n",
      "4: 0100\n",
      "5: 0101\n",
      "6: 0110\n",
      "7: 0111\n"
     ]
    }
   ],
   "source": [
    "n = 4  # number of bits to use\n",
    "for i in range(2**3):\n",
    "    b = bin(i)[2:].zfill(n)\n",
    "    print(f'{i}: {b}')"
   ]
  },
  {
   "cell_type": "markdown",
   "id": "7b569d50",
   "metadata": {},
   "source": [
    "Alternatively, we can make use of the first library we will introduce in this textbook: [NumPy](https://numpy.org/). NumPy is a Python library optimized for numerical computation of multi-dimensional arrays and matrices. NumPy also counts with a large number of useful functions, including one to convert decimal numbers to binary strings of an arbitrary length.\n",
    "\n",
    "Below, we first import NumPy using the alias `np`, and the make use of the function `binary_repr()` which takes as an input the decimal integer we want to convert, and the number of bits to represent it. For example, if we want the number $13$ represented in $5$ bits, we get $01101$:"
   ]
  },
  {
   "cell_type": "code",
   "execution_count": 12,
   "id": "154e29da",
   "metadata": {},
   "outputs": [
    {
     "name": "stdout",
     "output_type": "stream",
     "text": [
      "01101\n"
     ]
    }
   ],
   "source": [
    "import numpy as np\n",
    "\n",
    "b = np.binary_repr(13, 5)\n",
    "print(b)"
   ]
  },
  {
   "cell_type": "markdown",
   "id": "360e1695",
   "metadata": {},
   "source": [
    "Now that we have developed an understanding of how to use binary numbers in Python, we can discuss the types of operations we can perform on them and how are these implemented in the form of digital circuits. "
   ]
  },
  {
   "cell_type": "markdown",
   "id": "3d397aae",
   "metadata": {},
   "source": [
    "## 2. Boolean Logic\n",
    "\n",
    "[Boolean logic](https://en.wikipedia.org/wiki/Boolean_algebra) is the type of algebra used to operate on binary numbers. In Boolean logic, variables can take one of two possible values: **True** or **False**, which are commonly represented with the values we previously assigned for the <span style=\"color:#a883f7\">**bit**</span>: $1$ or $0$, respectively.\n",
    "\n",
    "There are three basic operations associated with Boolean algebra: [Negation](https://en.wikipedia.org/wiki/Negation) (**NOT**), [Conjunction](https://en.wikipedia.org/wiki/Logical_disjunction) (**OR**), and [Disjunction](https://en.wikipedia.org/wiki/Logical_conjunction) (**AND**).\n",
    "\n",
    "\n",
    "The **NOT** operation is unary, meaning that it operates only on one variable by negating its value. There are many different symbols used to represent negation, but here we will denote it by using a bar over the variable being negated. A convenient way to express Boolean operations is by the use for Truth tables; the one below corresponds to that of the **NOT** operation:\n",
    "\n",
    "| $a$ | $\\bar{a}$ |\n",
    "| :-: | :-: |\n",
    "| $0$ | $1$ |\n",
    "| $1$ | $0$ |\n",
    "\n",
    "\n",
    "The **OR** operation is binary (operates on two variables), and results in a **True** statement when either of the variables are **True** (i.e., either of them is equal to $1$). Again, there are many different symbols to represent conjunction, but here we will use $(a \\lor b)$ to denote $a$ **OR** $b$:\n",
    "\n",
    "| $a$ | $b$ | $a \\lor b$ |\n",
    "| :-: | :-: | :-: |\n",
    "| $0$ | $0$ | $0$ |\n",
    "| $0$ | $1$ | $1$ |\n",
    "| $1$ | $0$ | $1$ |\n",
    "| $1$ | $1$ | $1$ |\n",
    "\n",
    "\n",
    "The **AND** operation is also binary, but only results in a **True** statement if both of the variables are **True**. We express this operation as $(a \\land b)$:\n",
    "| $a$ | $b$ | $a \\land b$ |\n",
    "| :-: | :-: | :-: |\n",
    "| $0$ | $0$ | $0$ |\n",
    "| $0$ | $1$ | $0$ |\n",
    "| $1$ | $0$ | $0$ |\n",
    "| $1$ | $1$ | $1$ |\n",
    "\n",
    "\n",
    "We can then combine these three basic operations to generate any possible logical statement between an arbitrary number of bits. For example, the 3-bit truth table below describes a statement that is **True** only when the majority of the bits are **False**.\n",
    "\n",
    "| $a$ | $b$ | $c$ | $(\\bar{a} \\land \\bar{b}) \\lor (\\bar{a} \\land \\bar{c}) \\lor (\\bar{b} \\land \\bar{c}) $ |\n",
    "| :-: | :-: | :-: | :-: |\n",
    "| $0$ | $0$ | $0$ | $1$ |\n",
    "| $0$ | $0$ | $1$ | $1$ |\n",
    "| $0$ | $1$ | $0$ | $1$ |\n",
    "| $0$ | $1$ | $1$ | $0$ |\n",
    "| $1$ | $0$ | $0$ | $1$ |\n",
    "| $1$ | $0$ | $1$ | $0$ |\n",
    "| $1$ | $1$ | $0$ | $0$ |\n",
    "| $1$ | $1$ | $1$ | $0$ |\n",
    "\n",
    "\n",
    "It is worth pointing out that Boolean statements can always be simplified to use the least amount of literals as possible by using a combination of [Boolean Algebra laws](https://en.wikipedia.org/wiki/Boolean_algebra#Laws) and [De Morgan's laws](https://en.wikipedia.org/wiki/De_Morgan%27s_laws), but we will not go into these details herein.\n",
    "\n",
    "\n",
    "A very important composite Boolean operation that we will use aplenty throughout the textbook is the [Exclusive Disjunction](https://en.wikipedia.org/wiki/Exclusive_or), or Exclusive OR (**XOR**). The **XOR** operation is **True** if only one of the two variables is **True**.\n",
    "\n",
    "| $a$ | $b$ | $a \\oplus b$ |\n",
    "| :-: | :-: | :-: |\n",
    "| $0$ | $0$ | $0$ |\n",
    "| $0$ | $1$ | $1$ |\n",
    "| $1$ | $0$ | $1$ |\n",
    "| $1$ | $1$ | $0$ |\n",
    "\n",
    "\n",
    "The  **XOR** is a composite operation is because it can be expressed in terms of **NOT**, **OR** and **AND** operations as follows:\n",
    "\n",
    "$$ a \\oplus b = (a \\land \\bar{b}) \\lor (\\bar{a} \\land b) .$$\n",
    "\n",
    "However, when using binary values, the **XOR** operation is also equivalent to the addition operation modulo $2$:\n",
    "\n",
    "$$ a \\oplus b = (a + b) \\text{ mod } 2. $$\n",
    "\n",
    "\n",
    "When dealing with binary numbers of more than one bit, we will assume Boolean logic operators act bitwise (i.e., on a bit-by-bit basis). So, for example, if we have two 3-bit numbers $a = a_2 a_1 a_0$ and $b = b_2 b_1 b_0$, the operation $a \\oplus b$ represents the bitwise **XOR** between the two:\n",
    "\n",
    "$$\n",
    "\\begin{aligned}\n",
    "c &= a \\oplus b\n",
    "\\\\\n",
    "c_2 c_1 c_0 &= (a_2 a_1 a_0) \\oplus (b_2 b_1 b_0) ,\n",
    "\\end{aligned}\n",
    "$$\n",
    "\n",
    "where $c_i = a_i \\oplus b_i$.\n",
    "\n",
    "The table below summarizes the bitwise operator symbols used in Python, followed by some examples:\n",
    "\n",
    "| Operator | Python |\n",
    "| :-: | :-: |\n",
    "| AND | `&` |\n",
    "| OR | `|` |\n",
    "| XOR | `^` |"
   ]
  },
  {
   "cell_type": "code",
   "execution_count": 13,
   "id": "9eb4a4f0",
   "metadata": {},
   "outputs": [
    {
     "name": "stdout",
     "output_type": "stream",
     "text": [
      "a AND b = 10010\n",
      "a OR  b = 11110\n",
      "a XOR b = 01100\n"
     ]
    }
   ],
   "source": [
    "a = 0b11010\n",
    "b = 0b10110\n",
    "\n",
    "c_and = np.binary_repr(a & b, 5)  # Bitwise AND: 11010 & 10110 = 10010\n",
    "c_or = np.binary_repr(a | b, 5)   # Bitwise OR:  11010 | 10110 = 11110\n",
    "c_xor = np.binary_repr(a ^ b, 5)  # Bitwise XOR: 11010 ^ 10110 = 01100\n",
    "\n",
    "print(f'a AND b = {c_and}') \n",
    "print(f'a OR  b = {c_or}')\n",
    "print(f'a XOR b = {c_xor}')"
   ]
  },
  {
   "cell_type": "markdown",
   "id": "47c635c3",
   "metadata": {},
   "source": [
    "**NOTE:** Something very important to highlight is that, the Python logical operators `and` and `or` are **not** equivalent to the bitwise operators `&` and `^` when applied to binary integers of more than one bit. Understanding how these operators act on binary integers is irrelevant to the current discussion, but if you're curious about it, you can check this [Stack Overflow post](https://stackoverflow.com/questions/49658308/how-does-the-logical-and-operator-work-with-integers)."
   ]
  },
  {
   "cell_type": "markdown",
   "id": "df809a65",
   "metadata": {},
   "source": [
    "## 3. Digital Circuits\n",
    "\n",
    "Digital circuits are a diagrammatic representation of Boolean logic operations that can be directly translated into a physical implementation using electronic hardware. Understanding circuits is of great interest to us because different computational problems can be mapped onto this model, facilitating their classification into different complexity classes by using [circuit complexity theory](https://en.wikipedia.org/wiki/Circuit_complexity). As we will see in later chapters, this approach is widely used to analyze the type of advantage quantum algorithms can offer over a classical approach.\n",
    "\n",
    "\n",
    "Classical circuits are constructed by interconnecting fundamental [logic gates](https://en.wikipedia.org/wiki/Boolean_algebra#Digital_logic_gates) associated with the three basic Boolean operations: **NOT**, **OR**, **AND**. The figure below shows the gate symbols for these three operators (from left to right):\n",
    "\n",
    "<img src=\"images/01_01_01_basic_logic_gates.png\" align = \"center\" width=\"750\"/>\n",
    "\n",
    "Similarly, the **XOR** operator is so widely used that it has its own symbol, even though it can be constructed out of **NOT**, **OR** and **AND** gates:\n",
    "\n",
    "<img src=\"images/01_01_02_xor.png\" align = \"center\" width=\"180\"/>\n",
    "\n",
    "Another schematic simplification is to use a circle at the inputs or output of the binary gates to \"absorb\" a negation. For example, a **AND** / **OR** / **XOR** gate immediately followed by a **NOT** gate can be represented as:\n",
    "\n",
    "<img src=\"images/01_01_03_negated_logic_gates.png\" align = \"center\" width=\"790\"/>\n",
    "\n",
    "These three gates are common enough that receive the names **NAND** / **NOR** / **XNOR**.\n",
    "\n",
    "\n",
    "Using only these fundamental gates, we can then compose digital circuits for more complicated Boolean operations. For example, let's say we want to construct a circuit that takes two bits $a$, $b$, and an input carry $c_{in}$, and adds them into an output $s$ and an output carry $c_{out}$. We can express this in the form of a truth table:\n",
    "\n",
    "| $a$ | $b$ | $c_{in}$ | $s$ | $c_{out}$ |\n",
    "| :-: | :-: | :-: | :-: | :-: |\n",
    "| $0$ | $0$ | $0$ | $0$ | $0$ |\n",
    "| $0$ | $0$ | $1$ | $1$ | $0$ |\n",
    "| $0$ | $1$ | $0$ | $1$ | $0$ |\n",
    "| $0$ | $1$ | $1$ | $0$ | $1$ |\n",
    "| $1$ | $0$ | $0$ | $1$ | $0$ |\n",
    "| $1$ | $0$ | $1$ | $0$ | $1$ |\n",
    "| $1$ | $1$ | $0$ | $0$ | $1$ |\n",
    "| $1$ | $1$ | $1$ | $1$ | $1$ |\n",
    "\n",
    "\n",
    "It is not difficult to show that $s = a \\oplus b \\oplus c_{in}$, which is expected since the **XOR** operation is equivalent to  addition modulo $2$. Finding the expression for $c_{out}$ is slightly more involved since it requires synthesizing a Boolean expression by using methods like the [sum of products conversion](https://en.wikipedia.org/wiki/Disjunctive_normal_form#Conversion_to_DNF) or [Karnaugh maps](https://en.wikipedia.org/wiki/Karnaugh_map), which we will not cover here. It suffices to say that it can be shown that $c_{out} = ((a \\oplus b) \\land c_{in}) \\lor (a \\land b) $, which results in the circuit shown below:\n",
    "\n",
    "\n",
    "<img src=\"images/01_01_04_adder.png\" align = \"center\" width=\"420\"/>\n",
    "\n",
    "A concept that we have not yet discussed but is commonly utilized in circuit complexity analysis is that of the **COPY** or **FAN-OUT** operation. In the circuit above, we see that, for example, the variable $a$ is used as an input on two separate gates. This variable was copied (or fanned-out) when a single wire turned into two separate ones:\n",
    "\n",
    "<img src=\"images/01_01_05_fanout.png\" align = \"center\" width=\"80\"/>\n",
    "\n",
    "From a schematic standpoint, this might seem trivial considering that this will only require connecting an additional wire. However, from the point of complexity analysis this is an important operation because, as we will see later, there is no equivalent to the **COPY** operation in quantum circuits.\n",
    "\n",
    "\n",
    "The key insight of being able to implement more complex Boolean circuits out of fundamental logic gates is that we can follow this process to construct all the building blocks of modern classical computing systems. Using only these gates, we can not only develop all the [combinatorial logic](https://en.wikipedia.org/wiki/Combinational_logic) used to build, for example, the core [arithmetic logic unit (ALU)](https://en.wikipedia.org/wiki/Arithmetic_logic_unit) in a [central processing unit (CPU)](https://en.wikipedia.org/wiki/Central_processing_unit), but also all [sequential logic](https://en.wikipedia.org/wiki/Sequential_logic) (latches, flip-flops, registers) required to store and parse its data."
   ]
  },
  {
   "cell_type": "markdown",
   "id": "4d559edf",
   "metadata": {},
   "source": [
    "## 4. Physical Implementation of Circuits\n",
    "\n",
    "At a physical level, digital logic gates are not fundamental. Instead, they are implemented using transistors. The idea of this section is not to go into the details of how these devices work, but to provide some basic understanding on how they can be used to process Boolean information. This will later help us understand how quantum processors differ from classical devices at the hardware level.\n",
    "\n",
    "Most modern integrated circuits are implemented using what is known as [CMOS](https://en.wikipedia.org/wiki/CMOS) technology, where CMOS stands for complementary metal–oxide–semiconductor. CMOS circuits are implemented using two types of transistors: [NMOS](https://en.wikipedia.org/wiki/Field-effect_transistor#n-channel_FET) transistors, and [PMOS](https://en.wikipedia.org/wiki/Field-effect_transistor#p-channel_FET) transistors. For the current discussion, all we need to know is that transistors work like switches with two possible states: **ON** or **OFF**. NMOS and PMOS transistors are complementary devices, meaning that the level of voltage that turns one of these devices **ON**, turns the other one **OFF**, and vice versa. This is best exemplified by looking at the circuit used to construct a **NOT** gate:\n",
    "\n",
    "<img src=\"images/01_01_06_not_wi_transistors.png\" align = \"center\" width=\"660\"/>\n",
    "\n",
    "In this circuit, every node can take one of two possible voltages, $+v$ and $-v$, which we associate with a logical $1$ and a logical $0$, respectively. When the input voltage $v_{in}$ is equal to $+v$ (logical $1$), the NMOS transistor turns **ON** and the PMOS transistor turns **OFF**. This creates a direct connection between the negative power supply at $-v$ (logical $0$) and the output, therefore effectively *negating* the logical value of the input:\n",
    "\n",
    "<img src=\"images/01_01_07_not_at_p.png\" align = \"center\" width=\"180\"/>\n",
    "\n",
    "Similarly,  when the input voltage $v_{in}$ is equal to $-v$ (logical $0$), the PMOS transistor turns **ON** and the NMOS transistor turns **OFF**, creating a direct connection between the positive power supply at $+v$ (logical $1$) and the output, once again *negating* the logical value of the input:\n",
    "\n",
    "<img src=\"images/01_01_08_not_at_n.png\" align = \"center\" width=\"180\"/>\n",
    "\n",
    "We can then use this same idea to construct other fundamental gates. For example, a **NAND** can be easily implemented using only 4 transistors:\n",
    "\n",
    "<img src=\"images/01_01_09_nand_wi_transistors.png\" align = \"center\" width=\"500\"/>\n",
    "\n",
    "Same is true for a **NOR** circuit. A good exercise is to verify that the circuit above does in fact implement the **NAND** operation, and then try to implement the circuit for a **NOR**. \n",
    "\n",
    "With these basic blocks, we can then interconnect them together to create any circuit we want. For example, we can implement an **AND** gate by connecting the input of a **NOT** circuit to the output of a **NAND** circuit:\n",
    "\n",
    "<img src=\"images/01_01_10_and_wi_transistors.png\" align = \"center\" width=\"620\"/>\n",
    "\n",
    "The main takeaway is that, at the hardware level, the binary values $0$ and $1$ are nothing other than two discrete voltage levels (here denoted as $-v$ and $+v$). Transistors can then be arranged in circuits where input voltages turn them **ON** and **OFF** (like switches). This in turn modifies the voltage of an output node in a way that the input/output relation corresponds to a logic operation."
   ]
  },
  {
   "cell_type": "markdown",
   "id": "aa6cf349",
   "metadata": {},
   "source": [
    "In the next chapter, we will continue to build our understanding towards quantum computing. An important step in this process is to introduce a different model of computation known as [reversible computing](https://en.wikipedia.org/wiki/Reversible_computing). This is an important step in this process because the physical implementation of quantum hardware relies on quantum mechanics, which in principle is a reversible theory and therefore its model of computation should be reversible too."
   ]
  }
 ],
 "metadata": {
  "kernelspec": {
   "display_name": "Python 3 (ipykernel)",
   "language": "python",
   "name": "python3"
  },
  "language_info": {
   "codemirror_mode": {
    "name": "ipython",
    "version": 3
   },
   "file_extension": ".py",
   "mimetype": "text/x-python",
   "name": "python",
   "nbconvert_exporter": "python",
   "pygments_lexer": "ipython3",
   "version": "3.11.9"
  }
 },
 "nbformat": 4,
 "nbformat_minor": 5
}
