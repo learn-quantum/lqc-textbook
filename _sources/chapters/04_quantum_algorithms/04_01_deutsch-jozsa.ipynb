{
 "cells": [
  {
   "cell_type": "markdown",
   "id": "53d26f18",
   "metadata": {},
   "source": [
    "# Deutsch-Jozsa Algorithm\n",
    "<hr></hr>"
   ]
  },
  {
   "cell_type": "code",
   "execution_count": null,
   "id": "b4bbb0ef",
   "metadata": {},
   "outputs": [],
   "source": []
  }
 ],
 "metadata": {
  "kernelspec": {
   "display_name": "Python 3 (ipykernel)",
   "language": "python",
   "name": "python3"
  },
  "language_info": {
   "codemirror_mode": {
    "name": "ipython",
    "version": 3
   },
   "file_extension": ".py",
   "mimetype": "text/x-python",
   "name": "python",
   "nbconvert_exporter": "python",
   "pygments_lexer": "ipython3",
   "version": "3.11.9"
  }
 },
 "nbformat": 4,
 "nbformat_minor": 5
}
