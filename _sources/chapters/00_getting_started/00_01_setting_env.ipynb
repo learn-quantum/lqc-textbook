{
 "cells": [
  {
   "cell_type": "markdown",
   "id": "589fafba",
   "metadata": {},
   "source": [
    "# Setting Up your Environment\n",
    "<hr></hr>"
   ]
  },
  {
   "cell_type": "markdown",
   "id": "88b125ed",
   "metadata": {},
   "source": [
    "If you want to follow the textbook by running the code presented in here but don't know how to get started, you are in luck! Below is a step by step description of how to get started. \n",
    "\n",
    "If you're comfortable working on a terminal window, the [Summary](#0.-Summary) section below gives the minimal necessary steps. For more details, see sections 1-3 below."
   ]
  },
  {
   "cell_type": "markdown",
   "id": "228e58f8",
   "metadata": {},
   "source": [
    "## 0. Summary\n",
    "\n",
    "\n",
    "- Install [Miniconda](https://docs.anaconda.com/free/miniconda/#latest-miniconda-installer-links)\n",
    "<p></p>\n",
    "\n",
    "- In a terminal window, create a new environment \n",
    "    \n",
    "    `conda create --name <my-env>`\n",
    "\n",
    "- Activate new environment \n",
    "\n",
    "    `conda activate <my-env>`\n",
    "\n",
    "- Install Jupyter Notebook\n",
    "\n",
    "    `pip install notebook`\n",
    "\n",
    "- Install Qiskit\n",
    "\n",
    "    - On macOS (zsh): \n",
    "    \n",
    "        `pip install 'qiskit[visualization]'`\n",
    "    \n",
    "    - On Windows, Linux (bash):\n",
    "    \n",
    "        `pip install qiskit[visualization]`\n",
    "\n",
    "- Install Qiskit Aer\n",
    "\n",
    "    `pip install qiskit-aer`\n",
    "\n",
    "- Install Qiskit's IBM Runtime \n",
    "\n",
    "    `pip install qiskit-ibm-runtime`\n",
    "    \n",
    "- [Verify your Environment](#4.-Verify-your-Environment)"
   ]
  },
  {
   "cell_type": "markdown",
   "id": "a6c802ae",
   "metadata": {},
   "source": [
    "## 1. Install Minicoda\n",
    "\n",
    "Before installing any of the necessary Python packages, it is highly recommended to use what is known as a\n",
    "[virtual environment](https://docs.python.org/3/tutorial/venv.html) manager. This allows us to have a separate environment where we can specify the version of Python we want to use and the dependencies (packages) we needed for our project. Two popular options for Python environments are [`venv`](https://docs.python.org/3/library/venv.html) and [`conda`](https://docs.conda.io/en/latest/). Here we will use the latter. \n",
    "<br></br>\n",
    "    \n",
    "To get `conda` up and running we need to install [Miniconda](https://docs.anaconda.com/free/miniconda/index.html), which can be done by downloading the [installer](https://docs.anaconda.com/free/miniconda/#latest-miniconda-installer-links) corresponding to your operating system.\n",
    "<br></br>\n",
    "\n",
    "Once the download completes, run the installer and follow the directions to specify where you want things to reside.\n",
    "<br></br>\n",
    "\n",
    " - macOS users: it is easier to download and install the `pkg` version over the `bash` version since it comes with a visual user interface.\n",
    "<br></br>\n",
    "\n",
    "- Windows users: if this is your first installation of a python distribution, it is highly recommended you check the box that says *\"Add Miniconda3 to my PATH environment variable\"*"
   ]
  },
  {
   "cell_type": "markdown",
   "id": "4cc22704",
   "metadata": {},
   "source": [
    "## 2. Create and Activate a Virtual Environment\n",
    "\n",
    "With Miniconda installed, open a terminal window if you are on MacOs or Linux. If you are on Windows, open the Anaconda Prompt (Anaconda3). You can find it by clicking on the Windows logo key and typing *Anaconda*.\n",
    "<br></br>\n",
    "\n",
    "The command line should display that you're on the `base` environment:\n",
    "\n",
    "<img src=\"images/00_01_01_terminal_window_base.png\" align = \"center\" width=\"350\"/>\n",
    "<br></br>\n",
    "\n",
    "To create a new virtual environment type and run:\n",
    "```python\n",
    "conda create --name <my-env>\n",
    "```\n",
    "Replace `<my-env>` with whatever name you want to use for your environment.\n",
    "\n",
    "When asked if you want to proceed, type `y`. This will create a new environment equiped with the latest stable version of Python.\n",
    "<br></br>\n",
    "\n",
    "Lastly, make sure to <span style=\"color:#a883f7\">activate</span> your environment before proceeding with any of the package installations by running:\n",
    "```python\n",
    "conda activate <my-env>\n",
    "```\n",
    "\n",
    "where, again, `<my-env>` is the name you selected for your environment."
   ]
  },
  {
   "cell_type": "markdown",
   "id": "8572fb14",
   "metadata": {},
   "source": [
    "## 3. Install Necessary Python Packages\n",
    "\n",
    "Again, make sure you have <span style=\"color:#a883f7\">activated</span> the new environment before proceeding with any of the installations. The environment name should be displayed on the terminal command line right before your username. In the example below, we have activated an environment named `learn-quantum`:\n",
    "\n",
    "<img src=\"images\\00_01_02_terminal_window_learn.png\" align = \"center\" width=\"350\"/>\n",
    "<br></br>\n",
    "\n",
    "Once in the right environment, we can start installing the necessary packages to execute the code in this textbook. Here's the list of packages with a short explanation of why we need them:\n",
    "<br></br>\n",
    "\n",
    "1. **Jupyter Notebook**\n",
    "\n",
    "    Each chapter of this textbook is written in a Jupyter Notebook, which allows us to have both markdown cells to, for example, write text and equations that can be rendered in LaTeX, and code cells to write and execute Python code. Therefore, installing this package will allow you to download the textbook and run the cells, or simply copy and paste the code for execution. To install this package, run the following line in the terminal prompt:\n",
    "    ```python\n",
    "    pip install notebook\n",
    "    ```\n",
    "    \n",
    "2. **Qiskit**\n",
    "\n",
    "    Qiskit is currently considered to be the most popular Python package for the implementation, simulation, and execution of quantum circuits. Therefore this is the main package we will use throughout this textbook. Installing qiskit also installs its dependencies. In other words, the qiskit installation adds other packages that we will need throughout the textbook, such as NumPy, SymPy, Matplotlib, among many others. \n",
    "    <br></br>\n",
    "    If you have a recent version of <span style=\"color:#a883f7\">**macOS**</span> (or <span style=\"color:#a883f7\">**Linux**</span> `zsh` shell), run the following line in the terminal prompt to install qiskit (with all of its required depedencies):\n",
    "    ```python\n",
    "    pip install 'qiskit[visualization]'\n",
    "    ```\n",
    "\n",
    "    If instead you are running the Annaconda Prompt in <span style=\"color:#a883f7\">**Windows**</span>, or are in a <span style=\"color:#a883f7\">**Linux**</span> `bash` shell, then run:\n",
    "    ```python\n",
    "    pip install qiskit[visualization]\n",
    "    ```\n",
    "    \n",
    "3. **Qiskit Aer**\n",
    "\n",
    "    Qiskit Aer is a separate package that contains high-performance noisy simulators for Qiskit. We will be using these simulators in later chapters where we will cover noise. To install this package, run the following line in the terminal prompt:\n",
    "    ```python\n",
    "    pip install qiskit-aer\n",
    "    ```\n",
    "\n",
    "4. **Qiskit IBM Runtime**\n",
    "\n",
    "    The Qiskit IBM Runtime package contains the functions needed to access IBM's quantum processing units (QPUs). In other words, this package will allow us to connect to real quantum hardware, which we might do in some chapters of the textbook. To install this package, run the following line in the terminal prompt:\n",
    "    ```python\n",
    "    pip install qiskit-ibm-runtime\n",
    "    ```\n",
    " \n",
    "    **NOTE:** To be able to run your quantum programs in IBM's hardware, you need an IBM Quantum account. You can find help on how to set this up right after you're done verifying your environment by following the instructions in the [Configuring Qiskit](./00_02_qiskit_config.ipynb) chapter of this textbook."
   ]
  },
  {
   "cell_type": "markdown",
   "id": "495dc1c9",
   "metadata": {},
   "source": [
    "## 4. Verify your Environment\n",
    "\n",
    "To verify everything was installed properly, open a Jupyter Notebook by running in the terminal prompt:\n",
    "\n",
    "```python\n",
    "jupyter notebook\n",
    "```\n",
    "\n",
    "Select the folder where you want to save your notebook, and on the top right, click \"New\" and select \"Python 3\".\n",
    "<br></br>\n",
    "\n",
    "Copy and paste the code below on the first cell of the notebook and make sure it runs correctly. Do not worry if you don't understand the code, we're just verifying all libraries are accessible. This code does not verify if `qiskit-ibm-runtime` package is properly installed, but we will cover this in section 1 of the [next chapter](./00_02_qiskit_config.ipynb).\n",
    "<br></br>\n",
    "\n",
    "If you run into issues, you can post questions in the [discussions](https://github.com/learn-quantum/textbook/discussions) section, but make sure to follow the guidelines."
   ]
  },
  {
   "cell_type": "code",
   "execution_count": 4,
   "id": "f6a5679d",
   "metadata": {},
   "outputs": [
    {
     "name": "stdout",
     "output_type": "stream",
     "text": [
      "Statevector\n"
     ]
    },
    {
     "data": {
      "text/latex": [
       "$$\\frac{\\sqrt{2}}{2} |00\\rangle- \\frac{\\sqrt{2} i}{2} |11\\rangle$$"
      ],
      "text/plain": [
       "<IPython.core.display.Latex object>"
      ]
     },
     "metadata": {},
     "output_type": "display_data"
    },
    {
     "name": "stdout",
     "output_type": "stream",
     "text": [
      "Circuit\n"
     ]
    },
    {
     "data": {
      "image/png": "[encoded data removed]",
      "text/plain": [
       "<Figure size 327.252x204.68 with 1 Axes>"
      ]
     },
     "metadata": {
      "image/png": {
       "height": 172,
       "width": 266
      }
     },
     "output_type": "display_data"
    },
    {
     "name": "stdout",
     "output_type": "stream",
     "text": [
      "Probability Distribution\n"
     ]
    },
    {
     "data": {
      "image/png": "[encoded data removed]",
      "text/plain": [
       "<Figure size 504x360 with 1 Axes>"
      ]
     },
     "execution_count": 4,
     "metadata": {
      "image/png": {
       "height": 320,
       "width": 461
      }
     },
     "output_type": "execute_result"
    }
   ],
   "source": [
    "import numpy as np\n",
    "from qiskit import QuantumCircuit, transpile\n",
    "from qiskit.quantum_info import Statevector\n",
    "from qiskit.visualization import plot_distribution\n",
    "from qiskit_aer import AerSimulator\n",
    "\n",
    "simulator = AerSimulator()\n",
    "\n",
    "qc = QuantumCircuit(2,2)\n",
    "qc.rx(np.pi/2,1)\n",
    "qc.cx(1,0)\n",
    "print(\"Statevector:\")\n",
    "display(Statevector(qc).draw('latex'))\n",
    "\n",
    "qc.measure([1,0],[1,0])\n",
    "\n",
    "print(\"Circuit:\")\n",
    "display(qc.draw('mpl'))\n",
    "\n",
    "qc_t = transpile(qc, simulator)\n",
    "counts = simulator.run(qc, shots=2**10).result().get_counts()\n",
    "\n",
    "print(\"Probability Distribution:\")\n",
    "plot_distribution(counts)"
   ]
  }
 ],
 "metadata": {
  "kernelspec": {
   "display_name": "Python 3 (ipykernel)",
   "language": "python",
   "name": "python3"
  },
  "language_info": {
   "codemirror_mode": {
    "name": "ipython",
    "version": 3
   },
   "file_extension": ".py",
   "mimetype": "text/x-python",
   "name": "python",
   "nbconvert_exporter": "python",
   "pygments_lexer": "ipython3",
   "version": "3.11.9"
  }
 },
 "nbformat": 4,
 "nbformat_minor": 5
}
