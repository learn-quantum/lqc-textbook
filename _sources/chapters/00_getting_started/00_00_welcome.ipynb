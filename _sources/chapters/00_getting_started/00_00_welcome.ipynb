{
 "cells": [
  {
   "cell_type": "markdown",
   "id": "42fd7ba9",
   "metadata": {},
   "source": [
    "# Quantum Computing using Python\n",
    "---"
   ]
  },
  {
   "cell_type": "markdown",
   "id": "5c9804b2",
   "metadata": {},
   "source": [
    "Welcome! \n",
    "<br></br>\n",
    "\n",
    "This online textbook is meant to serve as an introductory guide to the field of quantum computing using an applied approach. \n",
    "<br></br>\n",
    "\n",
    "Instead of solely focusing on the theory and equations needed to get acquainted with the field, this website is designed to help you understand the necessary concepts to learn quantum computation, communication, and information by using code written in [Python](https://www.python.org/). In particular, this guide uses [Qiskit](https://qiskit.org/), which is currently considered to be the most popular Python package for the implementation, simulation, and execution of quantum programs. However, other packages might be supported in the future.\n",
    "<br></br>\n",
    "\n",
    "\n",
    "### Getting Started\n",
    "\n",
    "There are two ways you can use this textbook: \n",
    "1) Read the textbook directly from the [website](https://learnquantum.io) and copy/paste the code onto your own environment.\n",
    "2) Download the textbook chapters in the form of Jupyter Notebooks from the [learn-quantum/textbook](https://github.com/learn-quantum/textbook) GitHub repository.\n",
    "<br></br>\n",
    "\n",
    "If you're new to this field and need help getting started, go to the [Setting your Environment](.) section to find information about how to run the code in this textbook on your personal computer.\n",
    "<br></br>\n",
    "\n",
    "### Questions\n",
    "For questions or comments, please use the repository's [discussions](https://github.com/learn-quantum/textbook/discussions) section. Make sure first search for your question to see if it has already been asked.\n",
    "<br></br>\n",
    "\n",
    "### Issues\n",
    "To report typos, bugs, or any other issues, please use the repository's [issues](https://github.com/learn-quantum/textbook/issues) section."
   ]
  }
 ],
 "metadata": {
  "kernelspec": {
   "display_name": "Python 3 (ipykernel)",
   "language": "python",
   "name": "python3"
  },
  "language_info": {
   "codemirror_mode": {
    "name": "ipython",
    "version": 3
   },
   "file_extension": ".py",
   "mimetype": "text/x-python",
   "name": "python",
   "nbconvert_exporter": "python",
   "pygments_lexer": "ipython3",
   "version": "3.11.9"
  }
 },
 "nbformat": 4,
 "nbformat_minor": 5
}
