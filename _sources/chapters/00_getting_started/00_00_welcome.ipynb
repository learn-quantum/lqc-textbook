{
 "cells": [
  {
   "cell_type": "markdown",
   "id": "42fd7ba9",
   "metadata": {},
   "source": [
    "# Getting Started\n",
    "<hr></hr>"
   ]
  },
  {
   "cell_type": "markdown",
   "id": "5c9804b2",
   "metadata": {},
   "source": [
    "There are two ways you can use this textbook: \n",
    "1) Read the textbook directly from the [website](https://learnquantum.io) and copy/paste the code onto your own environment.\n",
    "2) Download the textbook chapters in the form of Jupyter Notebooks from the [learn-quantum/lqc-textbook](https://github.com/learn-quantum/lqc-textbook) GitHub repository, or using the download icon on the upper right.\n",
    "\n",
    "If you're new to this field and need help getting started, go to the [Setting your Environment](.) section to find information about how to install the necessary packages to run the code found throughout the textbook on your personal computer.\n",
    "\n",
    "## Questions\n",
    "For questions or comments, please use the repository's [discussions](https://github.com/learn-quantum/lqc-textbook/discussions) section. Make sure first search for your question to see if it has already been asked.\n",
    "\n",
    "\n",
    "## Issues\n",
    "To report typos, bugs, or any other issues, please use the repository's [issues](https://github.com/learn-quantum/lqc-textbook/issues) section."
   ]
  }
 ],
 "metadata": {
  "kernelspec": {
   "display_name": "Python 3 (ipykernel)",
   "language": "python",
   "name": "python3"
  },
  "language_info": {
   "codemirror_mode": {
    "name": "ipython",
    "version": 3
   },
   "file_extension": ".py",
   "mimetype": "text/x-python",
   "name": "python",
   "nbconvert_exporter": "python",
   "pygments_lexer": "ipython3",
   "version": "3.11.9"
  }
 },
 "nbformat": 4,
 "nbformat_minor": 5
}
