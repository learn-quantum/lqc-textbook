{
 "cells": [
  {
   "cell_type": "markdown",
   "id": "f55be0c9",
   "metadata": {},
   "source": [
    "# Configuring Qiskit\n",
    "<hr></hr>"
   ]
  },
  {
   "cell_type": "markdown",
   "id": "22356d19",
   "metadata": {},
   "source": [
    "The steps in this chapter are entirely optional. However, if you want to run your quantum programs in IBM's quantum processing units (QPUs), you do need to setup your [IBM Quantum account](#account). \n",
    "\n",
    "Furthermore, if you want the output of your code to match exactly how things are displayed in this textbook, you need to make the changes described in the [Qiskit Configuration File](#config) section."
   ]
  },
  {
   "cell_type": "markdown",
   "id": "60571544",
   "metadata": {},
   "source": [
    "## 1. Setting Up and Linking your IBM Quantum Account <a id='account'></a>\n",
    "\n",
    "If you plan to run your quantum programs in IBM's QPUs, you need to have an IBM Quantum Account and link it to your local [Qiskit installation](00_01_setting_env.ipynb). Here's how:\n",
    "\n",
    "1. Visit https://quantum.ibm.com/ and create an account\n",
    "    <p></p>\n",
    "2. Log into your account, and on the top right corner, copy your API token:\n",
    "    <img src=\"images/00_02_01_api_token.png\" align = \"left\" width=\"700\"/>\n",
    "    <br clear=\"left\"/>\n",
    "    <p></p>\n",
    "3. On your local machine, open a Jupyter Notebook and run the code below after pasting your API token over the `your-token-here` string. Make sure to **not** remove the single quotes `' '` enclosing it:\n",
    "    ```python\n",
    "    from qiskit_ibm_runtime import QiskitRuntimeService\n",
    "    QiskitRuntimeService.save_account('your-token-here')\n",
    "    ```\n",
    "    This step creates a file that stores your API token under `~/.qiskit/qiskit-ibm.json` if you're in <span style=\"color:#a883f7\">**macOS**</span> or <span style=\"color:#a883f7\">**Linux**</span>, or under `C:\\Users\\<your-username>\\.qiskit\\qiskit-ibm.json` in <span style=\"color:#a883f7\">**Windows**</span>. So, from now on, Qiskit will retrive your token automatically."
   ]
  },
  {
   "cell_type": "markdown",
   "id": "022c2fd9",
   "metadata": {},
   "source": [
    "## 2. Creating a Qiskit Configuration File <a id='config'></a>\n",
    "\n",
    "The Qiskit configuration file stores preferences of how you want certain outputs displayed in your system. For example, by default, Qiskit \"prints\" quantum circuits in text form, so to draw them in the form of colorful pictures, you need to use additional options in your code. But with the Qiskit configuration file, you can have Qiskit display circuits as images by.\n",
    "\n",
    "In this section, we will provide a configuration that matches what is used throughout the textbook.\n",
    "\n",
    "1. In your home directory, create a `.qiskit` folder (If you followed the steps to [set your IBM Quantum account](#account), the folder should already exist). \n",
    "\n",
    "    In a terminal window run:\n",
    "    ```python\n",
    "    mkdir ~/.qiskit\n",
    "    ```\n",
    "    If you're in <span style=\"color:#a883f7\">**Windows**</span>, create the folder under: `C:\\Users\\<your-username>\\.qiskit`\n",
    "\n",
    "2. Create the configuration file by running:\n",
    "    ```python\n",
    "    touch ~/.qiskit/settings.conf\n",
    "    ```\n",
    "    \n",
    "3. Open the configuration file using you favorite text editor.\n",
    "    - In a <span style=\"color:#a883f7\">**macOS**</span> terminal you can simply run:\n",
    "        ```python\n",
    "        open -a TextEdit ~/.qiskit/settings.conf\n",
    "        ```\n",
    "    - In <span style=\"color:#a883f7\">**Linux**</span> *obviously* use emacs.\n",
    "    - In <span style=\"color:#a883f7\">**Windows**</span> go to the `.qiskit` directory, right click on the file, and open with Notepad.\n",
    "    \n",
    "4. Copy and paste the following settings into the file and save it:\n",
    "    ```\n",
    "    [default]\n",
    "    circuit_drawer = mpl\n",
    "    circuit_mpl_style = iqx-dark\n",
    "    state_drawer = latex\n",
    "    circuit_reverse_bits = True\n",
    "    ```"
   ]
  },
  {
   "cell_type": "markdown",
   "id": "632b03d3",
   "metadata": {},
   "source": [
    "Here's a description of what each of these options does:\n",
    "\n",
    "- Qiskit's default way of drawing circuits is by using text. **`circuit_drawer = mpl`** switches this option to display circuits as colorful images instead. \n",
    "    <br></br>\n",
    "- **`circuit_mpl_style = iqx-dark`** changes the default color pattern to draw circuits from light mode to dark mode.\n",
    "    <br></br>\n",
    "- Statevectors in Qiskit are displayed as numpy arrays in text form. **`state_drawer = latex`** changes this default configuration to render Statevectors in LaTeX using ket notation.\n",
    "    <br></br>\n",
    "- Qiskit's way of ordering qubits in circuits is backwards with respect to almost every resource out there (I have a [youtube video](https://youtu.be/WcYC7fEXcFE?si=XGJc1bct4OWuWo2c) explaining this in detail). **`circuit_reverse_bits = True`** reverses the ordering so it matches that of what most people find reasonable."
   ]
  }
 ],
 "metadata": {
  "kernelspec": {
   "display_name": "Python 3 (ipykernel)",
   "language": "python",
   "name": "python3"
  },
  "language_info": {
   "codemirror_mode": {
    "name": "ipython",
    "version": 3
   },
   "file_extension": ".py",
   "mimetype": "text/x-python",
   "name": "python",
   "nbconvert_exporter": "python",
   "pygments_lexer": "ipython3",
   "version": "3.11.9"
  }
 },
 "nbformat": 4,
 "nbformat_minor": 5
}
