{
 "cells": [
  {
   "cell_type": "markdown",
   "id": "66bc6f89",
   "metadata": {},
   "source": [
    "# Quantum Entanglement\n",
    "<hr></hr>"
   ]
  },
  {
   "cell_type": "markdown",
   "id": "cdfc6ec6",
   "metadata": {},
   "source": [
    "[Entanglement](https://en.wikipedia.org/wiki/Quantum_entanglement) is one of the key components that makes quantum computing different from traditional digital systems. As a matter of fact, entanglement might be the main ingredient that allows quantum devices to provide a computational advantage over their classical counterparts. \n",
    "\n",
    "To understand entanglement, we will follow a similar approach to that of the previous chapter, and explain how this phenomenon emerges in a physical setup, like for example a system composed by the spin of two separate electrons.\n",
    "\n",
    "We will then explore how this effect is mapped to the qubit representation in an abstract quantum circuit model, which will be vital step in the construction of quantum algorithms."
   ]
  },
  {
   "cell_type": "markdown",
   "id": "7e255c04",
   "metadata": {},
   "source": [
    "## 1. Two-Electron System\n",
    "\n",
    "### 1.1 Separable Electrons\n",
    "\n",
    "In the previous chapter we described how the spin of a single electron can be seen as one of many physical implementations of a qubit. Let us now consider a system where we have two isolated electrons for which we want to describe their spin. Like before, we can use a Stern-Gerlach device to measure the spin of each electron. In the diagram below, we show two electrons isolated by a wall in the middle, each being sent to a separate apparatus (labeled SG left and SG right). If both electrons have their spin pointing in the the $\\texttt{+}z$ direction, we know that both of the will deflect upwards with $100\\%$ probability:\n",
    "\n",
    "<img src=\"images/02_02_01_two_spin_up.png\" align = \"center\" width=\"700\"/>\n",
    "\n",
    "Now, to mathematically represent a system with two electrons (which, we will treat as qubits), we follow the same rules we introduced for [multi-bit reversible-circuit systems](../01_classical_computing/01_03_bits_to_vectors.ipynb#2.1-Multi-Bit-Numbers-as-Vectors). Namely, we use the Kronecker product of the two separate states. So, given two electrons/qubits $q_0$ and $q_1$ (corresponding to the electrons on the right and on the left, respectively), the statevector that represents the entire system is given by:\n",
    "\n",
    "$$|q\\rangle = |q_1\\rangle \\otimes |q_0\\rangle$$\n",
    "\n",
    "Therefore, if both electrons have their spin pointing in the $\\texttt{+}z$ direction (qubits are in state $|0\\rangle$), we have the state:\n",
    "\n",
    "$$\n",
    "\\begin{aligned}\n",
    "|q\\rangle &= |0\\rangle \\otimes |0\\rangle\n",
    "\\\\\n",
    "\\\\\n",
    "|q\\rangle &= \\begin{bmatrix} 1 \\\\ 0 \\end{bmatrix} \\otimes \\begin{bmatrix} 1 \\\\ 0 \\end{bmatrix}\n",
    "\\\\\n",
    "\\\\\n",
    "|q\\rangle &= \\begin{bmatrix} 1 \\\\ 0 \\\\ 0 \\\\ 0 \\end{bmatrix}\n",
    "\\end{aligned}\n",
    "$$\n",
    "\n",
    "In a similar way, we can find the column vectors for all possible combinations of spin along the $\\pm z$ direction by taking the Kronecker product of the spin-up and spin-down states (denoted as $|0\\rangle$ and $|1\\rangle$, respectively). Instead of doing this manually, let's use Qiskit to find what these vectors look like:"
   ]
  },
  {
   "cell_type": "code",
   "execution_count": 1,
   "id": "2ee8e34a",
   "metadata": {},
   "outputs": [
    {
     "data": {
      "text/latex": [
       "$$\n",
       "|0\\rangle \\otimes |0\\rangle = \n",
       "\\begin{bmatrix}\n",
       "1 & 0 & 0 & 0  \\\\\n",
       " \\end{bmatrix}\n",
       "$$"
      ],
      "text/plain": [
       "<IPython.core.display.Latex object>"
      ]
     },
     "metadata": {},
     "output_type": "display_data"
    },
    {
     "data": {
      "text/latex": [
       "$$\n",
       "|0\\rangle \\otimes |1\\rangle = \n",
       "\\begin{bmatrix}\n",
       "0 & 1 & 0 & 0  \\\\\n",
       " \\end{bmatrix}\n",
       "$$"
      ],
      "text/plain": [
       "<IPython.core.display.Latex object>"
      ]
     },
     "metadata": {},
     "output_type": "display_data"
    },
    {
     "data": {
      "text/latex": [
       "$$\n",
       "|1\\rangle \\otimes |0\\rangle = \n",
       "\\begin{bmatrix}\n",
       "0 & 0 & 1 & 0  \\\\\n",
       " \\end{bmatrix}\n",
       "$$"
      ],
      "text/plain": [
       "<IPython.core.display.Latex object>"
      ]
     },
     "metadata": {},
     "output_type": "display_data"
    },
    {
     "data": {
      "text/latex": [
       "$$\n",
       "|1\\rangle \\otimes |1\\rangle = \n",
       "\\begin{bmatrix}\n",
       "0 & 0 & 0 & 1  \\\\\n",
       " \\end{bmatrix}\n",
       "$$"
      ],
      "text/plain": [
       "<IPython.core.display.Latex object>"
      ]
     },
     "metadata": {},
     "output_type": "display_data"
    }
   ],
   "source": [
    "from qiskit.quantum_info import Statevector\n",
    "\n",
    "# Define states |0⟩ and |1⟩\n",
    "state_0 = Statevector.from_label('0') # define state |0⟩\n",
    "state_1 = Statevector.from_label('1') # define state |1⟩\n",
    "\n",
    "state_00 = state_0.tensor(state_0)    # compose state |0⟩⊗|0⟩\n",
    "state_01 = state_0.tensor(state_1)    # compose state |0⟩⊗|1⟩\n",
    "state_10 = state_1.tensor(state_0)    # compose state |1⟩⊗|0⟩\n",
    "state_11 = state_1.tensor(state_1)    # compose state |1⟩⊗|1⟩\n",
    "\n",
    "# display states in column-vector notation\n",
    "display(state_00.draw('latex', convention='vector', prefix=r'|0\\rangle \\otimes |0\\rangle = '))\n",
    "display(state_01.draw('latex', convention='vector', prefix=r'|0\\rangle \\otimes |1\\rangle = '))\n",
    "display(state_10.draw('latex', convention='vector', prefix=r'|1\\rangle \\otimes |0\\rangle = '))\n",
    "display(state_11.draw('latex', convention='vector', prefix=r'|1\\rangle \\otimes |1\\rangle = '))"
   ]
  },
  {
   "cell_type": "markdown",
   "id": "6b5ee0b5",
   "metadata": {},
   "source": [
    "In the code above, we created `Statevector` objects for $|0\\rangle$ and $|1\\rangle$, and then found the statevectors for $|0\\rangle \\otimes |0\\rangle$, $|0\\rangle \\otimes |1\\rangle$, $|1\\rangle \\otimes |0\\rangle$, $|1\\rangle \\otimes |1\\rangle$ by making use of the `tensor` method, which applies the Kronecker product between two states."
   ]
  },
  {
   "cell_type": "markdown",
   "id": "45c7fbac",
   "metadata": {},
   "source": [
    "Let us now consider the case where both electrons have their spin pointing in the $\\texttt{+}x$ direction. From the single electron experiments, we know that each electron will deflect upwards or downwards probability of $1/2$:\n",
    "\n",
    "<img src=\"images/02_02_02_two_spin_right.png\" align = \"center\" width=\"700\"/>\n",
    "\n",
    "Since we are considering this to be a joint experiment, let's examine the combination of all possible outcomes. Given that each electron can be deflected up or down, each with $50\\%$ probability, we can have a total of 4 possible outcomes each with probability of $25\\%$:\n",
    "\n",
    "<img src=\"images/02_02_03_two_spin_right_options.png\" align = \"center\" width=\"740\"/>\n",
    "\n",
    "Mathematically, we can represent our system by, again, taking the Kronecker product of two electrons with spin along the $\\texttt{+}x$ direction (which, in the previous chapter we denoted as $|+\\rangle$):\n",
    "\n",
    "$$\n",
    "\\begin{aligned}\n",
    "|q\\rangle &= |+\\rangle \\otimes |+\\rangle\n",
    "\\\\\n",
    "\\\\\n",
    "|q\\rangle &= \\frac{1}{\\sqrt{2}}\\begin{bmatrix} 1 \\\\ 1 \\end{bmatrix} \\otimes \\frac{1}{\\sqrt{2}}\\begin{bmatrix} 1 \\\\ 1 \\end{bmatrix}\n",
    "\\\\\n",
    "\\\\\n",
    "|q\\rangle &= \\frac{1}{2}\\begin{bmatrix} 1 \\\\ 1 \\\\ 1 \\\\ 1 \\end{bmatrix}\n",
    "\\end{aligned}\n",
    "$$\n",
    "\n",
    "Let's also recall that we can express this vector as a linear combination (a **superposition**) of terms as follows:\n",
    "\n",
    "$$\n",
    "\\begin{aligned}\n",
    "|q\\rangle &= \\frac{1}{2}\\begin{bmatrix} 1 \\\\ 1 \\\\ 1 \\\\ 1 \\end{bmatrix}\n",
    "\\\\\n",
    "\\\\\n",
    "|q\\rangle &= \\frac{1}{2}\\left( \\begin{bmatrix} 1 \\\\ 0 \\\\ 0 \\\\ 0 \\end{bmatrix} + \n",
    "                               \\begin{bmatrix} 0 \\\\ 1 \\\\ 0 \\\\ 0 \\end{bmatrix} + \n",
    "                               \\begin{bmatrix} 0 \\\\ 0 \\\\ 1 \\\\ 0 \\end{bmatrix} + \n",
    "                               \\begin{bmatrix} 0 \\\\ 0 \\\\ 0 \\\\ 1 \\end{bmatrix} \\right)\n",
    "\\\\\n",
    "\\\\\n",
    "|q\\rangle &= \\frac{1}{2}\\left(|0\\rangle \\otimes |0\\rangle  + |0\\rangle \\otimes |1\\rangle + |1\\rangle \\otimes |0\\rangle + |1\\rangle \\otimes |1\\rangle \\right)\n",
    "\\end{aligned}\n",
    "$$\n",
    "\n",
    "\n",
    "It is common notation to shorten states of the form $|q_1\\rangle \\otimes |q_0\\rangle $ as $|q_1 q_0\\rangle $, so we can rewrite the expression above more succinctly as:\n",
    "\n",
    "$$ |q\\rangle = \\frac{1}{2}|00\\rangle  + \\frac{1}{2}|01\\rangle + \\frac{1}{2}|10\\rangle + \\frac{1}{2}|11\\rangle $$\n",
    "\n",
    "So, what we have is that, when there are two separate electrons/qubits each in a superposition, the state that represents the total system corresponds to a superposition of four terms premultiplied by the probability amplitude associated with observing each of four possible states. In this particular case, all four states have a probability amplitude of $1/2$, which means we have an equal probability of **measuring** each states equal to:\n",
    "\n",
    "$$ \\mathbb{P}_{00} = \\mathbb{P}_{01} = \\mathbb{P}_{10} = \\mathbb{P}_{11} = \\left(\\frac{1}{2}\\right)^2 = \\frac{1}{4}, $$\n",
    "\n",
    "which is what we expected from the experimental observations.\n",
    "\n",
    "Same holds true for the other different combinations of $|+\\rangle$ and $|-\\rangle$, but with different signs in the summation terms. We can actually show what these statevectors look like using Qiskit:"
   ]
  },
  {
   "cell_type": "code",
   "execution_count": 2,
   "id": "95b4154b",
   "metadata": {},
   "outputs": [
    {
     "data": {
      "text/latex": [
       "$$|++\\rangle = \\frac{1}{2} |00\\rangle+\\frac{1}{2} |01\\rangle+\\frac{1}{2} |10\\rangle+\\frac{1}{2} |11\\rangle$$"
      ],
      "text/plain": [
       "<IPython.core.display.Latex object>"
      ]
     },
     "metadata": {},
     "output_type": "display_data"
    },
    {
     "data": {
      "text/latex": [
       "$$|+-\\rangle = \\frac{1}{2} |00\\rangle- \\frac{1}{2} |01\\rangle+\\frac{1}{2} |10\\rangle- \\frac{1}{2} |11\\rangle$$"
      ],
      "text/plain": [
       "<IPython.core.display.Latex object>"
      ]
     },
     "metadata": {},
     "output_type": "display_data"
    },
    {
     "data": {
      "text/latex": [
       "$$|-+\\rangle = \\frac{1}{2} |00\\rangle+\\frac{1}{2} |01\\rangle- \\frac{1}{2} |10\\rangle- \\frac{1}{2} |11\\rangle$$"
      ],
      "text/plain": [
       "<IPython.core.display.Latex object>"
      ]
     },
     "metadata": {},
     "output_type": "display_data"
    },
    {
     "data": {
      "text/latex": [
       "$$|--\\rangle = \\frac{1}{2} |00\\rangle- \\frac{1}{2} |01\\rangle- \\frac{1}{2} |10\\rangle+\\frac{1}{2} |11\\rangle$$"
      ],
      "text/plain": [
       "<IPython.core.display.Latex object>"
      ]
     },
     "metadata": {},
     "output_type": "display_data"
    }
   ],
   "source": [
    "state_p = Statevector.from_label('+') # define state |+⟩\n",
    "state_m = Statevector.from_label('-') # define state |-⟩\n",
    "\n",
    "state_pp = state_p.tensor(state_p)    # Compose state |+⟩⊗|+⟩\n",
    "state_pm = state_p.tensor(state_m)    # Compose state |+⟩⊗|-⟩\n",
    "state_mp = state_m.tensor(state_p)    # Compose state |-⟩⊗|+⟩\n",
    "state_mm = state_m.tensor(state_m)    # Compose state |-⟩⊗|-⟩\n",
    "\n",
    "# display states in bra-ket notation\n",
    "display(state_pp.draw('latex', prefix='|++\\\\rangle = '))\n",
    "display(state_pm.draw('latex', prefix='|+-\\\\rangle = '))\n",
    "display(state_mp.draw('latex', prefix='|-+\\\\rangle = '))\n",
    "display(state_mm.draw('latex', prefix='|--\\\\rangle = '))"
   ]
  },
  {
   "cell_type": "markdown",
   "id": "7d59d79e",
   "metadata": {},
   "source": [
    "These systems composed of particles/qubits that do not interact with each other are called <span style=\"color:#a883f7\">**separable**</span> and have the key property that their combined statevectors can always be factorized into the statevectors of their individual qubits. Let's take for example the following 2-qubit separable state and try to factorize it:\n",
    "\n",
    "$$\n",
    "\\begin{aligned}\n",
    "|q\\rangle &= \\frac{1}{2} \\left(|0 \\rangle \\otimes |0\\rangle - |0 \\rangle \\otimes |1\\rangle + |1 \\rangle \\otimes |0\\rangle - |1 \\rangle \\otimes |1\\rangle \\right)\n",
    "\\\\\n",
    "\\\\\n",
    "|q\\rangle &= \\frac{1}{2} |0 \\rangle \\otimes (|0\\rangle - |1\\rangle) + |1\\rangle \\otimes (|0\\rangle - |1\\rangle)\n",
    "\\\\\n",
    "\\\\\n",
    "|q\\rangle &= \\frac{1}{2} (|0\\rangle + |1\\rangle) \\otimes (|0\\rangle - |1\\rangle)\n",
    "\\\\\n",
    "\\\\\n",
    "|q\\rangle &= \\frac{1}{\\sqrt{2}} (|0\\rangle + |1\\rangle) \\otimes \\frac{1}{\\sqrt{2}} (|0\\rangle - |1\\rangle)\n",
    "\\\\\n",
    "\\\\\n",
    "|q\\rangle &= |+\\rangle \\otimes |-\\rangle\n",
    "\\end{aligned}\n",
    "$$\n",
    "\n",
    "The statement above seems obvious. After all, if we have a system composed of two (or more) parts, we should be able to \"separate\" it into its constituents and get an individual description of each of its components. This is of course true for any classical system; however, in quantum mechanics this is not always the case. But to understand this unusual property we need to talk about entanglement."
   ]
  },
  {
   "cell_type": "markdown",
   "id": "6d66dbc4",
   "metadata": {},
   "source": [
    "### 1.2 Entangled Electrons\n",
    "\n",
    "Particle spin is a conserved quantity. What this means is that, if we have a particle with spin of $0$, and it decays into two separate particles, the spin of the new particles better add up to $0$. So, if these two particles are like electrons, one of them must have their spin oriented in the exact opposite direction as the other so they cancel each other out. A way to prove this is by something similar to what we had in the previous section: send each particle through a Stern-Gerlach device, and measure the outcomes. Experiments of this kind do indeed show that this is exactly how particles behave: half of the time one particle is deflected up and the other down, and the other half of the time the opposite happens, showing that the particles do indeed have opposite spins.\n",
    "\n",
    "<img src=\"images/02_02_04_two_spin_entangled.png\" align = \"center\" width=\"700\"/>\n",
    "\n",
    "At first glance, this seems rather obvious and unremarkable. However, upon closer inspection, these observations can only be explained if the pair of particles is always generated with a predefined spin along the $z$ direction:\n",
    "\n",
    "<img src=\"images/02_02_05_two_spin_z_entangled.png\" align = \"center\" width=\"700\"/>\n",
    "\n",
    "In other words, this particle decay always results in state $|0\\rangle \\otimes |1\\rangle$ or state $|1\\rangle \\otimes |0\\rangle$ each with equal probability of occurrence.\n",
    "\n",
    "But why would these particles have a preferential spatial orientation along the $z$ axis? Well, we could hypothesize that this was just rather coincidental for the particular experimental setup we chose, or that there is some strange physical reason in nature to always aligns the particles along some given direction in space. An easy way to verify these hypotheses is to rotate the Stern-Gerlach apparatuses by $90°$; this way the spin of our particles will be now oriented along the $x$ with respect to the devices' magnetic field. The expectation would then be to observe the same as what we have for separable electrons: each individual electron deflects upwards or downwards with $50\\%$ probability, but **independent** from each other, so there should be four possible combinations of results each with $25\\%$ of occurrence:\n",
    "\n",
    "<img src=\"images/02_02_06_two_spin_x_entangled.png\" align = \"center\" width=\"700\"/>\n",
    "\n",
    "<a name=\"back1\"></a> However, this is **not** what experiments show. No matter what angle we choose to rotate our devices by, the measurements always reflect one of the particles deflecting upwards, and the other one deflecting downwards. It is as if the particles were \"linked\" together no matter how far away they are from each other, so if one is measured to deflect up (down), the other is instantly measured to deflect down (up). This effect is commonly known as [quantum nonlocality](https://en.wikipedia.org/wiki/Quantum_nonlocality).\n",
    "\n",
    "Mathematically, this behavior can only be described using a global state for the overall system, but that cannot be separated into a state description of its individual constituents[$^*$](#footnote1). The states that described such type of correlated systems are known as <span style=\"color:#a883f7\">**entangled**</span> states.\n",
    "\n",
    "Now, to construct a statevector that describes such observations we could follow a similar approach to the one we used with a single electron system. We could say that, since we observe states $|01\\rangle$ and $|10\\rangle$ each with probability of $1/2$, a reasonable choice for the state that describes this system is:\n",
    "\n",
    "$$ |q\\rangle = \\frac{1}{\\sqrt{2}}|01\\rangle + \\frac{1}{\\sqrt{2}}|10\\rangle, $$\n",
    "\n",
    "since taking the square of its probability amplitudes gives us the observed probabilities for this system:\n",
    "\n",
    "$$ \\mathbb{P}_{01} = \\left(\\frac{1}{\\sqrt{2}} \\right)^2 = \\frac{1}{2}, \\quad \\mathbb{P}_{10} = \\left(\\frac{1}{\\sqrt{2}} \\right)^2 = \\frac{1}{2}. $$\n",
    "\n",
    "Although, a state like this:\n",
    "\n",
    "$$ |q\\rangle = \\frac{1}{\\sqrt{2}}|01\\rangle - \\frac{1}{\\sqrt{2}}|10\\rangle, $$\n",
    "\n",
    "would also result in the same experimental observations:\n",
    "\n",
    "$$ \\mathbb{P}_{01} =  \\left(\\frac{1}{\\sqrt{2}} \\right)^2 = \\frac{1}{2}, \\quad   \\mathbb{P}_{10} =  \\left(-\\frac{1}{\\sqrt{2}} \\right)^2 = \\frac{1}{2}.$$\n",
    "\n",
    "We will discuss how distinguish between these two type of states later on, but what is critical here is to realize that there is no way in which we can factorize either of these into the Kronecker product of two separate states that describe each of the two particles individually! This is a remarkable and strictly quantum result with no analog in any classical system."
   ]
  },
  {
   "cell_type": "markdown",
   "id": "494de1a7",
   "metadata": {},
   "source": [
    "## 2. Two-Qubit Circuits\n",
    "\n",
    "### 2.1 Separable States\n",
    "\n",
    "Representing quantum circuits with more than one qubit is as simple as what we did for classical reversible circuits: we just add one extra wire per qubit. Let's implement a two qubit circuit where we place the qubits in the superposition state $|q_1\\rangle \\otimes |q_0\\rangle = |+\\rangle \\otimes |-\\rangle$. \n",
    "\n",
    "From above, we know this is a separable state, so we can place $q_1$ in state $|+\\rangle$ by applying a Hadamard gate $H$ to that wire. Similarly, we know that to obtain state $|-\\rangle$ we have to apply an $H$ gate to state $|1\\rangle$. So in $q_0$, we first apply an $X$ gate to take it from its initial state $|0\\rangle$ to state $|1\\rangle$, and the apply an $H$ gate. Let's do this in Qiskit and extract the output state:"
   ]
  },
  {
   "cell_type": "code",
   "execution_count": 3,
   "id": "d311bfc2",
   "metadata": {
    "scrolled": true
   },
   "outputs": [
    {
     "data": {
      "image/png": "[encoded data removed]",
      "text/plain": [
       "<Figure size 206.852x144.48 with 1 Axes>"
      ]
     },
     "metadata": {
      "image/png": {
       "height": 125,
       "width": 173
      }
     },
     "output_type": "display_data"
    },
    {
     "data": {
      "text/latex": [
       "$$\\frac{1}{2} |00\\rangle- \\frac{1}{2} |01\\rangle+\\frac{1}{2} |10\\rangle- \\frac{1}{2} |11\\rangle$$"
      ],
      "text/plain": [
       "<IPython.core.display.Latex object>"
      ]
     },
     "metadata": {},
     "output_type": "display_data"
    }
   ],
   "source": [
    "from qiskit import QuantumCircuit\n",
    "\n",
    "qc_sep = QuantumCircuit(2)    # define quantum circuit\n",
    "qc_sep.h(1)                   # apply H gate to qubit 1\n",
    "qc_sep.x(0)                   # apply X gate to qubit 0\n",
    "qc_sep.h(0)                   # apply H gate to qubit 0\n",
    "\n",
    "display(qc_sep.draw())        # draw circuit\n",
    "display(Statevector(qc_sep))  # display statevector"
   ]
  },
  {
   "cell_type": "markdown",
   "id": "24e21db9",
   "metadata": {},
   "source": [
    "We can complete our circuit to also perform measurements on the output and verify we indeed get each possible combination of states $|0\\rangle$ and $|1\\rangle$ with equal probability:"
   ]
  },
  {
   "cell_type": "code",
   "execution_count": 4,
   "id": "dc58450d",
   "metadata": {},
   "outputs": [
    {
     "data": {
      "image/png": "[encoded data removed]",
      "text/plain": [
       "<Figure size 417.879x204.68 with 1 Axes>"
      ]
     },
     "metadata": {
      "image/png": {
       "height": 172,
       "width": 336
      }
     },
     "output_type": "display_data"
    }
   ],
   "source": [
    "# Add measurement blocks\n",
    "qc_sep.measure_all()\n",
    "display(qc_sep.draw())"
   ]
  },
  {
   "cell_type": "code",
   "execution_count": 5,
   "id": "c857f197",
   "metadata": {},
   "outputs": [
    {
     "name": "stdout",
     "output_type": "stream",
     "text": [
      "{'01': 270, '10': 229, '11': 225, '00': 276}\n"
     ]
    }
   ],
   "source": [
    "# perform circuit simulation\n",
    "from qiskit.providers.basic_provider import BasicSimulator\n",
    "\n",
    "simulator = BasicSimulator()             # define simulator object\n",
    "job = simulator.run(qc_sep, shots=1000)  # use run method to execute our circuit some number of shots\n",
    "result = job.result()                    # extract our results\n",
    "counts = result.get_counts()             # get the counts from the experiment\n",
    "\n",
    "print(counts)"
   ]
  },
  {
   "cell_type": "markdown",
   "id": "a473e9ec",
   "metadata": {},
   "source": [
    "And as expected, we get each possible outcome about a quarter of the time."
   ]
  },
  {
   "cell_type": "markdown",
   "id": "dcae1ea2",
   "metadata": {},
   "source": [
    "### 2.2 Entangled States\n",
    "\n",
    "The next obvious question then is: How do we entangle two separate electron spin/qubits? In the section above, entangled particles with opposite spins were generated from the decay of $0$-spin particle, but what if we have two non-entangled electrons to begin with? Well, in practice there are indeed ways to entangle electrons by having them interact with each other in a way that, due to the [Pauli exclusion principle](https://en.wikipedia.org/wiki/Pauli_exclusion_principle), their spins must be opposite to each other. The details of how this is done are outside of the scope of this chapter, but you can learn more about it by looking into how [spin-qubit quantum computers](https://en.wikipedia.org/wiki/Spin_qubit_quantum_computer) are built (e.g., [[Burkard23](https://link.aps.org/accepted/10.1103/RevModPhys.95.025003)]). The bottom line is that, in principle we can take two electrons, have them interact by the use of electromagnetic fields and, depending on the state of the incoming electrons, get them entangled. From a circuit standpoint, this is exactly what the $CX$ gate we introduced in the chapter on reversible computing does. \n",
    "\n",
    "The diagram below shows an example of the different steps involved in generating a pair of entangled electrons with the corresponding quantum circuit diagram. \n",
    "\n",
    "<img src=\"images/02_02_07_spin_vs_qubit_entangled.png\" align = \"center\" width=\"750\"/>\n",
    "\n",
    "Furthermore, we can work through the math of the gates applied to these statevectors and verify that this procedure actually works:\n",
    "\n",
    "1. The qubits are initialized in the all-zeros (ground) state:\n",
    "\n",
    "$$ \n",
    "|q\\rangle = |q_1 q_0\\rangle = |0\\rangle \\otimes |0\\rangle \\quad \\quad \\text{}\n",
    "$$\n",
    "\n",
    "2. Apply Hadamard gate to $q_1$:\n",
    "\n",
    "$$ \n",
    "\\begin{aligned}\n",
    "|q\\rangle &= H |0\\rangle \\otimes |0\\rangle \n",
    "\\\\\n",
    "\\\\\n",
    "|q\\rangle &= |+\\rangle \\otimes |0\\rangle \n",
    "\\\\\n",
    "\\\\\n",
    "|q\\rangle &= \\frac{1}{\\sqrt{2}} \\left(|0\\rangle + |1\\rangle \\right)  \\otimes |0\\rangle \n",
    "\\\\\n",
    "\\\\\n",
    "|q\\rangle &= \\frac{1}{\\sqrt{2}} \\left(|0\\rangle \\otimes |0\\rangle  + |1\\rangle \\otimes |0\\rangle  \\right)\n",
    "\\end{aligned}\n",
    "$$\n",
    "\n",
    "3. Apply $CX$ with control in $q_1$ and target in $q_0$ (recall when control is $1$, target gets flipped):\n",
    "\n",
    "$$ \n",
    "\\begin{aligned}\n",
    "|q\\rangle &= CX \\left[ \\frac{1}{\\sqrt{2}} \\left(|0\\rangle \\otimes |0\\rangle  + |1\\rangle \\otimes |0\\rangle \\right) \\right ]\n",
    "\\\\\n",
    "\\\\\n",
    "|q\\rangle &= \\frac{1}{\\sqrt{2}} \\left(|0\\rangle \\otimes |0\\rangle  + |1\\rangle \\otimes |1\\rangle \\right)\n",
    "\\end{aligned}\n",
    "$$\n",
    "\n",
    "Notice how we opted to do these operations using ket notation since we already know how each of the $H$ and $CX$ gates operate on statevectors, but we could've equally done this using matrices and column vectors. We will write down these steps next but using the `Statevector` and `Operator` classes in Qiskit to show our work:"
   ]
  },
  {
   "cell_type": "markdown",
   "id": "aa257bb4",
   "metadata": {},
   "source": [
    "1. Initialize qubits to $|00\\rangle$ vector:"
   ]
  },
  {
   "cell_type": "code",
   "execution_count": 4,
   "id": "5a82359f",
   "metadata": {},
   "outputs": [
    {
     "data": {
      "text/latex": [
       "$$\n",
       "|q\\rangle = \n",
       "\\begin{bmatrix}\n",
       "1 & 0 & 0 & 0  \\\\\n",
       " \\end{bmatrix}\n",
       "$$"
      ],
      "text/plain": [
       "<IPython.core.display.Latex object>"
      ]
     },
     "execution_count": 4,
     "metadata": {},
     "output_type": "execute_result"
    }
   ],
   "source": [
    "q = Statevector.from_label('00')\n",
    "q.draw('latex', convention='vector', prefix=r'|q\\rangle = ')"
   ]
  },
  {
   "cell_type": "markdown",
   "id": "31a5d98b",
   "metadata": {},
   "source": [
    "2.1 Define Hadamard matrix $H$ and Identity matrix $I$. Since our column vector is composed of two qubits ($q_0$ and $q_1$), and we want to apply $H$ only to $q_1$, we need to create a new matrix $H \\otimes I$, so that $q_0$ is left unchanged:"
   ]
  },
  {
   "cell_type": "code",
   "execution_count": 5,
   "id": "a2db6144",
   "metadata": {},
   "outputs": [
    {
     "data": {
      "text/latex": [
       "$$\n",
       "H = \n",
       "\\begin{bmatrix}\n",
       "\\frac{\\sqrt{2}}{2} & \\frac{\\sqrt{2}}{2}  \\\\\n",
       " \\frac{\\sqrt{2}}{2} & - \\frac{\\sqrt{2}}{2}  \\\\\n",
       " \\end{bmatrix}\n",
       "$$"
      ],
      "text/plain": [
       "<IPython.core.display.Latex object>"
      ]
     },
     "metadata": {},
     "output_type": "display_data"
    },
    {
     "data": {
      "text/latex": [
       "$$\n",
       "I = \n",
       "\\begin{bmatrix}\n",
       "1 & 0  \\\\\n",
       " 0 & 1  \\\\\n",
       " \\end{bmatrix}\n",
       "$$"
      ],
      "text/plain": [
       "<IPython.core.display.Latex object>"
      ]
     },
     "metadata": {},
     "output_type": "display_data"
    },
    {
     "data": {
      "text/latex": [
       "$$\n",
       "H \\otimes I = \n",
       "\\begin{bmatrix}\n",
       "\\frac{\\sqrt{2}}{2} & 0 & \\frac{\\sqrt{2}}{2} & 0  \\\\\n",
       " 0 & \\frac{\\sqrt{2}}{2} & 0 & \\frac{\\sqrt{2}}{2}  \\\\\n",
       " \\frac{\\sqrt{2}}{2} & 0 & - \\frac{\\sqrt{2}}{2} & 0  \\\\\n",
       " 0 & \\frac{\\sqrt{2}}{2} & 0 & - \\frac{\\sqrt{2}}{2}  \\\\\n",
       " \\end{bmatrix}\n",
       "$$"
      ],
      "text/plain": [
       "<IPython.core.display.Latex object>"
      ]
     },
     "metadata": {},
     "output_type": "display_data"
    }
   ],
   "source": [
    "from qiskit.quantum_info import Operator\n",
    "\n",
    "# Define H\n",
    "H = Operator.from_label('H')\n",
    "display(H.draw('latex', prefix = 'H = '))\n",
    "\n",
    "# Define I\n",
    "I = Operator.from_label('I')\n",
    "display(I.draw('latex', prefix = 'I = '))\n",
    "\n",
    "# Compose H⊗I\n",
    "HI = H.tensor(I)\n",
    "display(HI.draw('latex', prefix = r'H \\otimes I = '))"
   ]
  },
  {
   "cell_type": "markdown",
   "id": "5307537c",
   "metadata": {},
   "source": [
    "2.2 Apply composed matrix $H \\otimes I$ to $|00\\rangle$:"
   ]
  },
  {
   "cell_type": "code",
   "execution_count": 6,
   "id": "7a334476",
   "metadata": {},
   "outputs": [
    {
     "data": {
      "text/latex": [
       "$$\n",
       "|q\\rangle = \n",
       "\\begin{bmatrix}\n",
       "\\frac{\\sqrt{2}}{2} & 0 & \\frac{\\sqrt{2}}{2} & 0  \\\\\n",
       " \\end{bmatrix}\n",
       "$$"
      ],
      "text/plain": [
       "<IPython.core.display.Latex object>"
      ]
     },
     "execution_count": 6,
     "metadata": {},
     "output_type": "execute_result"
    }
   ],
   "source": [
    "q = q.evolve(HI)\n",
    "q.draw('latex', convention='vector', prefix=r'|q\\rangle = ')"
   ]
  },
  {
   "cell_type": "markdown",
   "id": "b471eefc",
   "metadata": {},
   "source": [
    "3.1 Define $CX$ matrix. There is not a label to do this in Qiskit, so we are going to explicitly pass matrix we defined for the $CX$ gate in a [previous chapter](https://learnquantum.io/chapters/01_classical_computing/01_03_bits_to_vectors.html#multi-bit-systems):"
   ]
  },
  {
   "cell_type": "code",
   "execution_count": 7,
   "id": "6ea20ba0",
   "metadata": {},
   "outputs": [
    {
     "data": {
      "text/latex": [
       "$$\n",
       "CX = \n",
       "\\begin{bmatrix}\n",
       "1 & 0 & 0 & 0  \\\\\n",
       " 0 & 1 & 0 & 0  \\\\\n",
       " 0 & 0 & 0 & 1  \\\\\n",
       " 0 & 0 & 1 & 0  \\\\\n",
       " \\end{bmatrix}\n",
       "$$"
      ],
      "text/plain": [
       "<IPython.core.display.Latex object>"
      ]
     },
     "metadata": {},
     "output_type": "display_data"
    }
   ],
   "source": [
    "CX = Operator([[1,0,0,0],\n",
    "               [0,1,0,0],\n",
    "               [0,0,0,1],\n",
    "               [0,0,1,0]])\n",
    "display(CX.draw('latex', prefix = 'CX = '))"
   ]
  },
  {
   "cell_type": "markdown",
   "id": "5a3d72fc",
   "metadata": {},
   "source": [
    "3.2 Apply $CX$ matrix to state $|q\\rangle$ to get our output. We will display this in both column-vector and ket notation:"
   ]
  },
  {
   "cell_type": "code",
   "execution_count": 8,
   "id": "1aff2bfd",
   "metadata": {},
   "outputs": [
    {
     "data": {
      "text/latex": [
       "$$\n",
       "|q\\rangle = \n",
       "\\begin{bmatrix}\n",
       "\\frac{\\sqrt{2}}{2} & 0 & 0 & \\frac{\\sqrt{2}}{2}  \\\\\n",
       " \\end{bmatrix}\n",
       "$$"
      ],
      "text/plain": [
       "<IPython.core.display.Latex object>"
      ]
     },
     "metadata": {},
     "output_type": "display_data"
    },
    {
     "data": {
      "text/latex": [
       "$$|q\\rangle = \\frac{\\sqrt{2}}{2} |00\\rangle+\\frac{\\sqrt{2}}{2} |11\\rangle$$"
      ],
      "text/plain": [
       "<IPython.core.display.Latex object>"
      ]
     },
     "metadata": {},
     "output_type": "display_data"
    }
   ],
   "source": [
    "q = q.evolve(CX)\n",
    "display(q.draw('latex', convention='vector', prefix=r'|q\\rangle = '))\n",
    "display(q.draw('latex', prefix=r'|q\\rangle = '))"
   ]
  },
  {
   "cell_type": "markdown",
   "id": "90a54dbb",
   "metadata": {},
   "source": [
    "Similarly, we can accomplish the exact same output by implementing in Qiskit the quantum circuit we defined above to create an entangled state:"
   ]
  },
  {
   "cell_type": "code",
   "execution_count": 7,
   "id": "fbab7561",
   "metadata": {},
   "outputs": [
    {
     "data": {
      "image/png": "[encoded data removed]",
      "text/plain": [
       "<Figure size 206.852x144.48 with 1 Axes>"
      ]
     },
     "metadata": {
      "image/png": {
       "height": 125,
       "width": 173
      }
     },
     "output_type": "display_data"
    },
    {
     "data": {
      "text/latex": [
       "$$\\frac{\\sqrt{2}}{2} |00\\rangle+\\frac{\\sqrt{2}}{2} |11\\rangle$$"
      ],
      "text/plain": [
       "<IPython.core.display.Latex object>"
      ]
     },
     "metadata": {},
     "output_type": "display_data"
    }
   ],
   "source": [
    "qc_ent = QuantumCircuit(2)    # define quantum circuit\n",
    "qc_ent.h(1)                   # apply H gate to qubit 1\n",
    "qc_ent.cx(1,0)                # apply CX with control on q1 and target on q0\n",
    "\n",
    "display(qc_ent.draw())        # draw circuit\n",
    "display(Statevector(qc_ent))  # display statevector"
   ]
  },
  {
   "cell_type": "markdown",
   "id": "139d9e58",
   "metadata": {},
   "source": [
    "And just like we did for the example with a separable state, we can add measurements to our circuit and perform a simulation to show that the only two possible outcomes are either `00` or `11`, each with equal probability:"
   ]
  },
  {
   "cell_type": "code",
   "execution_count": 10,
   "id": "30f3e481",
   "metadata": {},
   "outputs": [
    {
     "data": {
      "image/png": "[encoded data removed]",
      "text/plain": [
       "<Figure size 417.879x204.68 with 1 Axes>"
      ]
     },
     "metadata": {
      "image/png": {
       "height": 172,
       "width": 336
      }
     },
     "output_type": "display_data"
    }
   ],
   "source": [
    "# Add measurement blocks\n",
    "qc_ent.measure_all()\n",
    "display(qc_ent.draw())"
   ]
  },
  {
   "cell_type": "code",
   "execution_count": 11,
   "id": "fddb8954",
   "metadata": {},
   "outputs": [
    {
     "name": "stdout",
     "output_type": "stream",
     "text": [
      "{'11': 508, '00': 492}\n"
     ]
    }
   ],
   "source": [
    "# perform circuit simulation\n",
    "job = simulator.run(qc_ent, shots=1000)  # use run method to execute our circuit some number of shots\n",
    "result = job.result()                    # extract our results\n",
    "counts = result.get_counts()             # get the counts from the experiment\n",
    "\n",
    "print(counts)"
   ]
  },
  {
   "cell_type": "markdown",
   "id": "ac62b3f0",
   "metadata": {},
   "source": [
    "Now that we have a reasonable understanding of how the concepts of superposition and entanglement work for equiprobable one- and two-qubit systems, we will next generalize these concepts for systems where our probability amplitudes are not always equal in amplitude, and where we can have more than two qubits."
   ]
  },
  {
   "cell_type": "markdown",
   "id": "c12e53e0",
   "metadata": {},
   "source": [
    "## Footnotes\n",
    "\n",
    "<a name=\"footnote1\"></a><span style=\"font-size: smaller;\">$^*$Technically, this view of having an inseparable wavefunction that describes non-local effects is only true in the [Schrödinger picture](https://en.wikipedia.org/wiki/Schr%C3%B6dinger_picture) of quantum mechanics. However, when using the the [Heisenberg picture](https://en.wikipedia.org/wiki/Heisenberg_picture), one can construct a fully local representation of quantum systems [[Deutsch99](https://arxiv.org/pdf/quant-ph/9906007)]. ([go back](#back1))"
   ]
  }
 ],
 "metadata": {
  "kernelspec": {
   "display_name": "Python 3 (ipykernel)",
   "language": "python",
   "name": "python3"
  },
  "language_info": {
   "codemirror_mode": {
    "name": "ipython",
    "version": 3
   },
   "file_extension": ".py",
   "mimetype": "text/x-python",
   "name": "python",
   "nbconvert_exporter": "python",
   "pygments_lexer": "ipython3",
   "version": "3.11.9"
  }
 },
 "nbformat": 4,
 "nbformat_minor": 5
}
